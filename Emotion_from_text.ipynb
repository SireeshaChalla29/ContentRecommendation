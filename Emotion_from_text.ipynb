{
  "cells": [
    {
      "cell_type": "code",
      "execution_count": null,
      "metadata": {
        "colab": {
          "base_uri": "https://localhost:8080/"
        },
        "id": "lC6rqeNNt5eV",
        "outputId": "b42a8273-ea6a-43ac-b1a3-6a00a18b6217"
      },
      "outputs": [
        {
          "output_type": "stream",
          "name": "stdout",
          "text": [
            "rm: cannot remove '/content/drive/MyDrive': Operation canceled\n",
            "rm: cannot remove '/content/drive/.shortcut-targets-by-id': Operation canceled\n",
            "rm: cannot remove '/content/drive/.file-revisions-by-id': Operation canceled\n",
            "rm: cannot remove '/content/drive/.Trash-0': Directory not empty\n",
            "Looking in indexes: https://pypi.org/simple, https://us-python.pkg.dev/colab-wheels/public/simple/\n",
            "Requirement already satisfied: gdown in /usr/local/lib/python3.9/dist-packages (4.6.4)\n",
            "Requirement already satisfied: requests[socks] in /usr/local/lib/python3.9/dist-packages (from gdown) (2.27.1)\n",
            "Requirement already satisfied: six in /usr/local/lib/python3.9/dist-packages (from gdown) (1.15.0)\n",
            "Requirement already satisfied: filelock in /usr/local/lib/python3.9/dist-packages (from gdown) (3.10.0)\n",
            "Requirement already satisfied: beautifulsoup4 in /usr/local/lib/python3.9/dist-packages (from gdown) (4.11.2)\n",
            "Requirement already satisfied: tqdm in /usr/local/lib/python3.9/dist-packages (from gdown) (4.65.0)\n",
            "Requirement already satisfied: soupsieve>1.2 in /usr/local/lib/python3.9/dist-packages (from beautifulsoup4->gdown) (2.4)\n",
            "Requirement already satisfied: certifi>=2017.4.17 in /usr/local/lib/python3.9/dist-packages (from requests[socks]->gdown) (2022.12.7)\n",
            "Requirement already satisfied: charset-normalizer~=2.0.0 in /usr/local/lib/python3.9/dist-packages (from requests[socks]->gdown) (2.0.12)\n",
            "Requirement already satisfied: idna<4,>=2.5 in /usr/local/lib/python3.9/dist-packages (from requests[socks]->gdown) (3.4)\n",
            "Requirement already satisfied: urllib3<1.27,>=1.21.1 in /usr/local/lib/python3.9/dist-packages (from requests[socks]->gdown) (1.26.15)\n",
            "Requirement already satisfied: PySocks!=1.5.7,>=1.5.6 in /usr/local/lib/python3.9/dist-packages (from requests[socks]->gdown) (1.7.1)\n",
            "Downloading...\n",
            "From: https://drive.google.com/uc?id=1J7tUY218wTJ6RtOUeSxvh-5ZBRPiKd-S\n",
            "To: /content/tweet_emotions.csv.zip\n",
            "100% 1.63M/1.63M [00:00<00:00, 125MB/s]\n",
            "Archive:  /content/tweet_emotions.csv.zip\n",
            "  inflating: tweet_emotions.csv      \n",
            "Downloading...\n",
            "From: https://drive.google.com/uc?id=1z_BVURk7ShW9G7DTzUMhy1x3vSzPkkxp\n",
            "To: /content/predict_score.py\n",
            "100% 574/574 [00:00<00:00, 945kB/s]\n"
          ]
        }
      ],
      "source": [
        "!rm -rf /content/*\n",
        "!pip install --upgrade --no-cache-dir gdown\n",
        "!gdown https://drive.google.com/uc?id=1J7tUY218wTJ6RtOUeSxvh-5ZBRPiKd-S\n",
        "!unzip /content/tweet_emotions.csv.zip\n",
        "!rm -rf /content/tweet_emotions.csv.zip\n",
        "!gdown https://drive.google.com/uc?id=1z_BVURk7ShW9G7DTzUMhy1x3vSzPkkxp\n",
        "!mkdir sample\n",
        "!mv /content/predict_score.py /content/sample/."
      ]
    },
    {
      "cell_type": "code",
      "execution_count": null,
      "metadata": {
        "colab": {
          "base_uri": "https://localhost:8080/",
          "height": 206
        },
        "id": "HDdJOE8PuJlv",
        "outputId": "9a07372a-9d9f-4d9c-b7f6-6c85279d0708"
      },
      "outputs": [
        {
          "output_type": "execute_result",
          "data": {
            "text/plain": [
              "     tweet_id   sentiment                                            content\n",
              "0  1956967341       empty  @tiffanylue i know  i was listenin to bad habi...\n",
              "1  1956967666     sadness  Layin n bed with a headache  ughhhh...waitin o...\n",
              "2  1956967696     sadness                Funeral ceremony...gloomy friday...\n",
              "3  1956967789  enthusiasm               wants to hang out with friends SOON!\n",
              "4  1956968416     neutral  @dannycastillo We want to trade with someone w..."
            ],
            "text/html": [
              "\n",
              "  <div id=\"df-46f0336e-8311-41f5-9216-92f4d710545f\">\n",
              "    <div class=\"colab-df-container\">\n",
              "      <div>\n",
              "<style scoped>\n",
              "    .dataframe tbody tr th:only-of-type {\n",
              "        vertical-align: middle;\n",
              "    }\n",
              "\n",
              "    .dataframe tbody tr th {\n",
              "        vertical-align: top;\n",
              "    }\n",
              "\n",
              "    .dataframe thead th {\n",
              "        text-align: right;\n",
              "    }\n",
              "</style>\n",
              "<table border=\"1\" class=\"dataframe\">\n",
              "  <thead>\n",
              "    <tr style=\"text-align: right;\">\n",
              "      <th></th>\n",
              "      <th>tweet_id</th>\n",
              "      <th>sentiment</th>\n",
              "      <th>content</th>\n",
              "    </tr>\n",
              "  </thead>\n",
              "  <tbody>\n",
              "    <tr>\n",
              "      <th>0</th>\n",
              "      <td>1956967341</td>\n",
              "      <td>empty</td>\n",
              "      <td>@tiffanylue i know  i was listenin to bad habi...</td>\n",
              "    </tr>\n",
              "    <tr>\n",
              "      <th>1</th>\n",
              "      <td>1956967666</td>\n",
              "      <td>sadness</td>\n",
              "      <td>Layin n bed with a headache  ughhhh...waitin o...</td>\n",
              "    </tr>\n",
              "    <tr>\n",
              "      <th>2</th>\n",
              "      <td>1956967696</td>\n",
              "      <td>sadness</td>\n",
              "      <td>Funeral ceremony...gloomy friday...</td>\n",
              "    </tr>\n",
              "    <tr>\n",
              "      <th>3</th>\n",
              "      <td>1956967789</td>\n",
              "      <td>enthusiasm</td>\n",
              "      <td>wants to hang out with friends SOON!</td>\n",
              "    </tr>\n",
              "    <tr>\n",
              "      <th>4</th>\n",
              "      <td>1956968416</td>\n",
              "      <td>neutral</td>\n",
              "      <td>@dannycastillo We want to trade with someone w...</td>\n",
              "    </tr>\n",
              "  </tbody>\n",
              "</table>\n",
              "</div>\n",
              "      <button class=\"colab-df-convert\" onclick=\"convertToInteractive('df-46f0336e-8311-41f5-9216-92f4d710545f')\"\n",
              "              title=\"Convert this dataframe to an interactive table.\"\n",
              "              style=\"display:none;\">\n",
              "        \n",
              "  <svg xmlns=\"http://www.w3.org/2000/svg\" height=\"24px\"viewBox=\"0 0 24 24\"\n",
              "       width=\"24px\">\n",
              "    <path d=\"M0 0h24v24H0V0z\" fill=\"none\"/>\n",
              "    <path d=\"M18.56 5.44l.94 2.06.94-2.06 2.06-.94-2.06-.94-.94-2.06-.94 2.06-2.06.94zm-11 1L8.5 8.5l.94-2.06 2.06-.94-2.06-.94L8.5 2.5l-.94 2.06-2.06.94zm10 10l.94 2.06.94-2.06 2.06-.94-2.06-.94-.94-2.06-.94 2.06-2.06.94z\"/><path d=\"M17.41 7.96l-1.37-1.37c-.4-.4-.92-.59-1.43-.59-.52 0-1.04.2-1.43.59L10.3 9.45l-7.72 7.72c-.78.78-.78 2.05 0 2.83L4 21.41c.39.39.9.59 1.41.59.51 0 1.02-.2 1.41-.59l7.78-7.78 2.81-2.81c.8-.78.8-2.07 0-2.86zM5.41 20L4 18.59l7.72-7.72 1.47 1.35L5.41 20z\"/>\n",
              "  </svg>\n",
              "      </button>\n",
              "      \n",
              "  <style>\n",
              "    .colab-df-container {\n",
              "      display:flex;\n",
              "      flex-wrap:wrap;\n",
              "      gap: 12px;\n",
              "    }\n",
              "\n",
              "    .colab-df-convert {\n",
              "      background-color: #E8F0FE;\n",
              "      border: none;\n",
              "      border-radius: 50%;\n",
              "      cursor: pointer;\n",
              "      display: none;\n",
              "      fill: #1967D2;\n",
              "      height: 32px;\n",
              "      padding: 0 0 0 0;\n",
              "      width: 32px;\n",
              "    }\n",
              "\n",
              "    .colab-df-convert:hover {\n",
              "      background-color: #E2EBFA;\n",
              "      box-shadow: 0px 1px 2px rgba(60, 64, 67, 0.3), 0px 1px 3px 1px rgba(60, 64, 67, 0.15);\n",
              "      fill: #174EA6;\n",
              "    }\n",
              "\n",
              "    [theme=dark] .colab-df-convert {\n",
              "      background-color: #3B4455;\n",
              "      fill: #D2E3FC;\n",
              "    }\n",
              "\n",
              "    [theme=dark] .colab-df-convert:hover {\n",
              "      background-color: #434B5C;\n",
              "      box-shadow: 0px 1px 3px 1px rgba(0, 0, 0, 0.15);\n",
              "      filter: drop-shadow(0px 1px 2px rgba(0, 0, 0, 0.3));\n",
              "      fill: #FFFFFF;\n",
              "    }\n",
              "  </style>\n",
              "\n",
              "      <script>\n",
              "        const buttonEl =\n",
              "          document.querySelector('#df-46f0336e-8311-41f5-9216-92f4d710545f button.colab-df-convert');\n",
              "        buttonEl.style.display =\n",
              "          google.colab.kernel.accessAllowed ? 'block' : 'none';\n",
              "\n",
              "        async function convertToInteractive(key) {\n",
              "          const element = document.querySelector('#df-46f0336e-8311-41f5-9216-92f4d710545f');\n",
              "          const dataTable =\n",
              "            await google.colab.kernel.invokeFunction('convertToInteractive',\n",
              "                                                     [key], {});\n",
              "          if (!dataTable) return;\n",
              "\n",
              "          const docLinkHtml = 'Like what you see? Visit the ' +\n",
              "            '<a target=\"_blank\" href=https://colab.research.google.com/notebooks/data_table.ipynb>data table notebook</a>'\n",
              "            + ' to learn more about interactive tables.';\n",
              "          element.innerHTML = '';\n",
              "          dataTable['output_type'] = 'display_data';\n",
              "          await google.colab.output.renderOutput(dataTable, element);\n",
              "          const docLink = document.createElement('div');\n",
              "          docLink.innerHTML = docLinkHtml;\n",
              "          element.appendChild(docLink);\n",
              "        }\n",
              "      </script>\n",
              "    </div>\n",
              "  </div>\n",
              "  "
            ]
          },
          "metadata": {},
          "execution_count": 10
        }
      ],
      "source": [
        "import pandas as pd\n",
        "df = pd.read_csv('/content/tweet_emotions.csv')\n",
        "df.head()"
      ]
    },
    {
      "cell_type": "code",
      "execution_count": null,
      "metadata": {
        "colab": {
          "base_uri": "https://localhost:8080/"
        },
        "id": "7zMsVxHVuXCh",
        "outputId": "5a9660e2-c7a5-44ef-fe28-47d52fcf7c25"
      },
      "outputs": [
        {
          "output_type": "execute_result",
          "data": {
            "text/plain": [
              "(40000, 3)"
            ]
          },
          "metadata": {},
          "execution_count": 11
        }
      ],
      "source": [
        "df.shape"
      ]
    },
    {
      "cell_type": "code",
      "execution_count": null,
      "metadata": {
        "colab": {
          "base_uri": "https://localhost:8080/"
        },
        "id": "a5yju9DOuUyd",
        "outputId": "9634e9fd-9bd8-40e0-c3ea-a128e1e51059"
      },
      "outputs": [
        {
          "output_type": "execute_result",
          "data": {
            "text/plain": [
              "neutral       8638\n",
              "worry         8459\n",
              "happiness     5209\n",
              "sadness       5165\n",
              "love          3842\n",
              "surprise      2187\n",
              "fun           1776\n",
              "relief        1526\n",
              "hate          1323\n",
              "empty          827\n",
              "enthusiasm     759\n",
              "boredom        179\n",
              "anger          110\n",
              "Name: sentiment, dtype: int64"
            ]
          },
          "metadata": {},
          "execution_count": 12
        }
      ],
      "source": [
        "df['sentiment'].value_counts()"
      ]
    },
    {
      "cell_type": "code",
      "execution_count": null,
      "metadata": {
        "colab": {
          "base_uri": "https://localhost:8080/"
        },
        "id": "BlqGvtmsuY8w",
        "outputId": "c95bc7fc-6c1d-43eb-8cdf-556c2a8d9f07"
      },
      "outputs": [
        {
          "output_type": "execute_result",
          "data": {
            "text/plain": [
              "worry        8459\n",
              "happiness    5209\n",
              "sadness      5165\n",
              "surprise     2187\n",
              "hate         1323\n",
              "anger         110\n",
              "Name: sentiment, dtype: int64"
            ]
          },
          "metadata": {},
          "execution_count": 13
        }
      ],
      "source": [
        "col = ['happiness','sadness','surprise','anger','worry','hate']\n",
        "df = df[df.sentiment.isin(col)]\n",
        "df['sentiment'].value_counts()"
      ]
    },
    {
      "cell_type": "code",
      "execution_count": null,
      "metadata": {
        "colab": {
          "base_uri": "https://localhost:8080/"
        },
        "id": "CpDSo010vJ5G",
        "outputId": "70e87168-149b-4ccc-e968-01795c89b2f3"
      },
      "outputs": [
        {
          "output_type": "execute_result",
          "data": {
            "text/plain": [
              "array(['sadness', 'worry', 'surprise', 'hate', 'happiness', 'anger'],\n",
              "      dtype=object)"
            ]
          },
          "metadata": {},
          "execution_count": 14
        }
      ],
      "source": [
        "df['sentiment'].unique()"
      ]
    },
    {
      "cell_type": "code",
      "execution_count": null,
      "metadata": {
        "colab": {
          "base_uri": "https://localhost:8080/"
        },
        "id": "WK_R6fAEvGee",
        "outputId": "e536c7f8-a96d-48a7-d2ae-d19165d0373d"
      },
      "outputs": [
        {
          "output_type": "execute_result",
          "data": {
            "text/plain": [
              "Fear        8459\n",
              "happy       5209\n",
              "sad         5165\n",
              "surprise    2187\n",
              "disgust     1323\n",
              "anger        110\n",
              "Name: sentiment, dtype: int64"
            ]
          },
          "metadata": {},
          "execution_count": 15
        }
      ],
      "source": [
        "d = {'sadness':'sad','worry':'Fear','hate':'disgust','anger':'anger','happiness':'happy','surprise':'surprise'}\n",
        "df['sentiment'] = df['sentiment'].apply(lambda x:d[x])\n",
        "df['sentiment'].value_counts()"
      ]
    },
    {
      "cell_type": "code",
      "execution_count": null,
      "metadata": {
        "colab": {
          "base_uri": "https://localhost:8080/"
        },
        "id": "36h4EhaJvEDg",
        "outputId": "d6e4c638-cf3f-43dd-e156-7ba2bb8dc51a"
      },
      "outputs": [
        {
          "output_type": "execute_result",
          "data": {
            "text/plain": [
              "(22453, 3)"
            ]
          },
          "metadata": {},
          "execution_count": 8
        }
      ],
      "source": [
        "df.shape"
      ]
    },
    {
      "cell_type": "code",
      "execution_count": null,
      "metadata": {
        "colab": {
          "base_uri": "https://localhost:8080/",
          "height": 206
        },
        "id": "wAzx_Os-vFKD",
        "outputId": "60da884a-c5f7-4607-c28b-78f42accc63f"
      },
      "outputs": [
        {
          "output_type": "execute_result",
          "data": {
            "text/plain": [
              "     tweet_id sentiment                                            content\n",
              "1  1956967666       sad  Layin n bed with a headache  ughhhh...waitin o...\n",
              "2  1956967696       sad                Funeral ceremony...gloomy friday...\n",
              "5  1956968477      Fear  Re-pinging @ghostridah14: why didn't you go to...\n",
              "6  1956968487       sad  I should be sleep, but im not! thinking about ...\n",
              "7  1956968636      Fear               Hmmm. http://www.djhero.com/ is down"
            ],
            "text/html": [
              "\n",
              "  <div id=\"df-685537f0-038a-4bc6-885e-a513ea25845a\">\n",
              "    <div class=\"colab-df-container\">\n",
              "      <div>\n",
              "<style scoped>\n",
              "    .dataframe tbody tr th:only-of-type {\n",
              "        vertical-align: middle;\n",
              "    }\n",
              "\n",
              "    .dataframe tbody tr th {\n",
              "        vertical-align: top;\n",
              "    }\n",
              "\n",
              "    .dataframe thead th {\n",
              "        text-align: right;\n",
              "    }\n",
              "</style>\n",
              "<table border=\"1\" class=\"dataframe\">\n",
              "  <thead>\n",
              "    <tr style=\"text-align: right;\">\n",
              "      <th></th>\n",
              "      <th>tweet_id</th>\n",
              "      <th>sentiment</th>\n",
              "      <th>content</th>\n",
              "    </tr>\n",
              "  </thead>\n",
              "  <tbody>\n",
              "    <tr>\n",
              "      <th>1</th>\n",
              "      <td>1956967666</td>\n",
              "      <td>sad</td>\n",
              "      <td>Layin n bed with a headache  ughhhh...waitin o...</td>\n",
              "    </tr>\n",
              "    <tr>\n",
              "      <th>2</th>\n",
              "      <td>1956967696</td>\n",
              "      <td>sad</td>\n",
              "      <td>Funeral ceremony...gloomy friday...</td>\n",
              "    </tr>\n",
              "    <tr>\n",
              "      <th>5</th>\n",
              "      <td>1956968477</td>\n",
              "      <td>Fear</td>\n",
              "      <td>Re-pinging @ghostridah14: why didn't you go to...</td>\n",
              "    </tr>\n",
              "    <tr>\n",
              "      <th>6</th>\n",
              "      <td>1956968487</td>\n",
              "      <td>sad</td>\n",
              "      <td>I should be sleep, but im not! thinking about ...</td>\n",
              "    </tr>\n",
              "    <tr>\n",
              "      <th>7</th>\n",
              "      <td>1956968636</td>\n",
              "      <td>Fear</td>\n",
              "      <td>Hmmm. http://www.djhero.com/ is down</td>\n",
              "    </tr>\n",
              "  </tbody>\n",
              "</table>\n",
              "</div>\n",
              "      <button class=\"colab-df-convert\" onclick=\"convertToInteractive('df-685537f0-038a-4bc6-885e-a513ea25845a')\"\n",
              "              title=\"Convert this dataframe to an interactive table.\"\n",
              "              style=\"display:none;\">\n",
              "        \n",
              "  <svg xmlns=\"http://www.w3.org/2000/svg\" height=\"24px\"viewBox=\"0 0 24 24\"\n",
              "       width=\"24px\">\n",
              "    <path d=\"M0 0h24v24H0V0z\" fill=\"none\"/>\n",
              "    <path d=\"M18.56 5.44l.94 2.06.94-2.06 2.06-.94-2.06-.94-.94-2.06-.94 2.06-2.06.94zm-11 1L8.5 8.5l.94-2.06 2.06-.94-2.06-.94L8.5 2.5l-.94 2.06-2.06.94zm10 10l.94 2.06.94-2.06 2.06-.94-2.06-.94-.94-2.06-.94 2.06-2.06.94z\"/><path d=\"M17.41 7.96l-1.37-1.37c-.4-.4-.92-.59-1.43-.59-.52 0-1.04.2-1.43.59L10.3 9.45l-7.72 7.72c-.78.78-.78 2.05 0 2.83L4 21.41c.39.39.9.59 1.41.59.51 0 1.02-.2 1.41-.59l7.78-7.78 2.81-2.81c.8-.78.8-2.07 0-2.86zM5.41 20L4 18.59l7.72-7.72 1.47 1.35L5.41 20z\"/>\n",
              "  </svg>\n",
              "      </button>\n",
              "      \n",
              "  <style>\n",
              "    .colab-df-container {\n",
              "      display:flex;\n",
              "      flex-wrap:wrap;\n",
              "      gap: 12px;\n",
              "    }\n",
              "\n",
              "    .colab-df-convert {\n",
              "      background-color: #E8F0FE;\n",
              "      border: none;\n",
              "      border-radius: 50%;\n",
              "      cursor: pointer;\n",
              "      display: none;\n",
              "      fill: #1967D2;\n",
              "      height: 32px;\n",
              "      padding: 0 0 0 0;\n",
              "      width: 32px;\n",
              "    }\n",
              "\n",
              "    .colab-df-convert:hover {\n",
              "      background-color: #E2EBFA;\n",
              "      box-shadow: 0px 1px 2px rgba(60, 64, 67, 0.3), 0px 1px 3px 1px rgba(60, 64, 67, 0.15);\n",
              "      fill: #174EA6;\n",
              "    }\n",
              "\n",
              "    [theme=dark] .colab-df-convert {\n",
              "      background-color: #3B4455;\n",
              "      fill: #D2E3FC;\n",
              "    }\n",
              "\n",
              "    [theme=dark] .colab-df-convert:hover {\n",
              "      background-color: #434B5C;\n",
              "      box-shadow: 0px 1px 3px 1px rgba(0, 0, 0, 0.15);\n",
              "      filter: drop-shadow(0px 1px 2px rgba(0, 0, 0, 0.3));\n",
              "      fill: #FFFFFF;\n",
              "    }\n",
              "  </style>\n",
              "\n",
              "      <script>\n",
              "        const buttonEl =\n",
              "          document.querySelector('#df-685537f0-038a-4bc6-885e-a513ea25845a button.colab-df-convert');\n",
              "        buttonEl.style.display =\n",
              "          google.colab.kernel.accessAllowed ? 'block' : 'none';\n",
              "\n",
              "        async function convertToInteractive(key) {\n",
              "          const element = document.querySelector('#df-685537f0-038a-4bc6-885e-a513ea25845a');\n",
              "          const dataTable =\n",
              "            await google.colab.kernel.invokeFunction('convertToInteractive',\n",
              "                                                     [key], {});\n",
              "          if (!dataTable) return;\n",
              "\n",
              "          const docLinkHtml = 'Like what you see? Visit the ' +\n",
              "            '<a target=\"_blank\" href=https://colab.research.google.com/notebooks/data_table.ipynb>data table notebook</a>'\n",
              "            + ' to learn more about interactive tables.';\n",
              "          element.innerHTML = '';\n",
              "          dataTable['output_type'] = 'display_data';\n",
              "          await google.colab.output.renderOutput(dataTable, element);\n",
              "          const docLink = document.createElement('div');\n",
              "          docLink.innerHTML = docLinkHtml;\n",
              "          element.appendChild(docLink);\n",
              "        }\n",
              "      </script>\n",
              "    </div>\n",
              "  </div>\n",
              "  "
            ]
          },
          "metadata": {},
          "execution_count": 9
        }
      ],
      "source": [
        "df.head()"
      ]
    },
    {
      "cell_type": "code",
      "execution_count": null,
      "metadata": {
        "colab": {
          "base_uri": "https://localhost:8080/"
        },
        "id": "01D6uq3jTS6t",
        "outputId": "fbc168c1-6238-4a33-e03e-9485b4f446a7"
      },
      "outputs": [
        {
          "output_type": "stream",
          "name": "stdout",
          "text": [
            "Looking in indexes: https://pypi.org/simple, https://us-python.pkg.dev/colab-wheels/public/simple/\n",
            "Collecting emoji\n",
            "  Downloading emoji-2.2.0.tar.gz (240 kB)\n",
            "\u001b[?25l     \u001b[90m━━━━━━━━━━━━━━━━━━━━━━━━━━━━━━━━━━━━━━━━\u001b[0m \u001b[32m0.0/240.9 KB\u001b[0m \u001b[31m?\u001b[0m eta \u001b[36m-:--:--\u001b[0m\r\u001b[2K     \u001b[91m━━━━━━━━━━━━━━━━━━━━━━━━━━━━━━━━━━━━━━\u001b[0m\u001b[90m╺\u001b[0m \u001b[32m235.5/240.9 KB\u001b[0m \u001b[31m8.0 MB/s\u001b[0m eta \u001b[36m0:00:01\u001b[0m\r\u001b[2K     \u001b[90m━━━━━━━━━━━━━━━━━━━━━━━━━━━━━━━━━━━━━━━\u001b[0m \u001b[32m240.9/240.9 KB\u001b[0m \u001b[31m6.4 MB/s\u001b[0m eta \u001b[36m0:00:00\u001b[0m\n",
            "\u001b[?25h  Preparing metadata (setup.py) ... \u001b[?25l\u001b[?25hdone\n",
            "Building wheels for collected packages: emoji\n",
            "  Building wheel for emoji (setup.py) ... \u001b[?25l\u001b[?25hdone\n",
            "  Created wheel for emoji: filename=emoji-2.2.0-py3-none-any.whl size=234926 sha256=549163c88fab03eb15f725e39e1b8ea609cee996b26c3b88f4aafff8eb8499e3\n",
            "  Stored in directory: /root/.cache/pip/wheels/9a/b8/0f/f580817231cbf59f6ade9fd132ff60ada1de9f7dc85521f857\n",
            "Successfully built emoji\n",
            "Installing collected packages: emoji\n",
            "Successfully installed emoji-2.2.0\n",
            "Looking in indexes: https://pypi.org/simple, https://us-python.pkg.dev/colab-wheels/public/simple/\n",
            "Collecting contractions\n",
            "  Downloading contractions-0.1.73-py2.py3-none-any.whl (8.7 kB)\n",
            "Collecting textsearch>=0.0.21\n",
            "  Downloading textsearch-0.0.24-py2.py3-none-any.whl (7.6 kB)\n",
            "Collecting pyahocorasick\n",
            "  Downloading pyahocorasick-2.0.0-cp39-cp39-manylinux_2_5_x86_64.manylinux1_x86_64.whl (103 kB)\n",
            "\u001b[2K     \u001b[90m━━━━━━━━━━━━━━━━━━━━━━━━━━━━━━━━━━━━━━━\u001b[0m \u001b[32m103.2/103.2 KB\u001b[0m \u001b[31m4.5 MB/s\u001b[0m eta \u001b[36m0:00:00\u001b[0m\n",
            "\u001b[?25hCollecting anyascii\n",
            "  Downloading anyascii-0.3.2-py3-none-any.whl (289 kB)\n",
            "\u001b[2K     \u001b[90m━━━━━━━━━━━━━━━━━━━━━━━━━━━━━━━━━━━━━━\u001b[0m \u001b[32m289.9/289.9 KB\u001b[0m \u001b[31m14.2 MB/s\u001b[0m eta \u001b[36m0:00:00\u001b[0m\n",
            "\u001b[?25hInstalling collected packages: pyahocorasick, anyascii, textsearch, contractions\n",
            "Successfully installed anyascii-0.3.2 contractions-0.1.73 pyahocorasick-2.0.0 textsearch-0.0.24\n",
            "Looking in indexes: https://pypi.org/simple, https://us-python.pkg.dev/colab-wheels/public/simple/\n",
            "Requirement already satisfied: textblob in /usr/local/lib/python3.9/dist-packages (0.17.1)\n",
            "Requirement already satisfied: nltk>=3.1 in /usr/local/lib/python3.9/dist-packages (from textblob) (3.8.1)\n",
            "Requirement already satisfied: regex>=2021.8.3 in /usr/local/lib/python3.9/dist-packages (from nltk>=3.1->textblob) (2022.10.31)\n",
            "Requirement already satisfied: tqdm in /usr/local/lib/python3.9/dist-packages (from nltk>=3.1->textblob) (4.65.0)\n",
            "Requirement already satisfied: click in /usr/local/lib/python3.9/dist-packages (from nltk>=3.1->textblob) (8.1.3)\n",
            "Requirement already satisfied: joblib in /usr/local/lib/python3.9/dist-packages (from nltk>=3.1->textblob) (1.1.1)\n"
          ]
        }
      ],
      "source": [
        "!pip install emoji\n",
        "!pip install contractions\n",
        "!pip install textblob"
      ]
    },
    {
      "cell_type": "code",
      "execution_count": null,
      "metadata": {
        "id": "2X-SEao2TJ4o"
      },
      "outputs": [],
      "source": [
        "import emoji\n",
        "import contractions\n",
        "import string\n",
        "import spacy\n",
        "import re\n",
        "from textblob import TextBlob\n",
        "\n",
        "def replace_retweet(tweet, default_replace=\"\"):\n",
        "    tweet = re.sub('RT\\s+', default_replace, tweet)\n",
        "    return tweet\n",
        "\n",
        "def replace_user(tweet, default_replace=\"twitteruser\"):\n",
        "    tweet = re.sub('\\B@\\w+', default_replace, tweet)\n",
        "    return tweet\n",
        "\n",
        "def demojize(tweet):\n",
        "    tweet = emoji.demojize(tweet)\n",
        "    return tweet\n",
        "\n",
        "def replace_url(tweet, default_replace=\"\"):\n",
        "    tweet = re.sub('(http|https):\\/\\/\\S+', default_replace, tweet)\n",
        "    return tweet\n",
        "\n",
        "def replace_hashtag(tweet, default_replace=\"\"):\n",
        "    tweet = re.sub('#+', default_replace, tweet)\n",
        "    return tweet\n",
        "\n",
        "def to_lowercase(tweet):\n",
        "    tweet = tweet.lower()\n",
        "    return tweet\n",
        "\n",
        "def word_repetition(tweet):\n",
        "    tweet = re.sub(r'(.)\\1+', r'\\1\\1', tweet)\n",
        "    return tweet\n",
        "\n",
        "def punct_repetition(tweet, default_replace=\"\"):\n",
        "    tweet = re.sub(r'[\\?\\.\\!]+(?=[\\?\\.\\!])', default_replace, tweet)\n",
        "    return tweet\n",
        "\n",
        "def fix_contractions(tweet):\n",
        "    tweet = contractions.fix(tweet)\n",
        "    return tweet\n",
        "\n",
        "def spell_correct(tweet):\n",
        "    sentence = TextBlob(tweet)\n",
        "    return sentence.correct()"
      ]
    },
    {
      "cell_type": "code",
      "execution_count": null,
      "metadata": {
        "id": "Mt0ZYd2rTjMC"
      },
      "outputs": [],
      "source": [
        "nlp = spacy.load('en_core_web_sm')\n",
        "\n",
        "def process(sent):\n",
        "    d = nlp(sent)\n",
        "    tokens=[]\n",
        "    \n",
        "    for i in d:\n",
        "        if i.lemma_ != '-PRON-':\n",
        "            tokens.append(i.lemma_)\n",
        "    tokens = [tok for tok in tokens if tok not in string.punctuation]\n",
        "\n",
        "    tokens = ' '.join(tokens)\n",
        "    return tokens"
      ]
    },
    {
      "cell_type": "code",
      "execution_count": null,
      "metadata": {
        "id": "K7RrjXi2TqNB"
      },
      "outputs": [],
      "source": [
        "def preprocess_text(sent):\n",
        "    tweet = replace_retweet(sent, default_replace=\"\")\n",
        "    tweet = replace_user(tweet, default_replace=\"twitteruser\")\n",
        "    tweet = demojize(tweet)\n",
        "    tweet = replace_url(tweet, default_replace=\"\")\n",
        "    tweet = replace_hashtag(tweet, default_replace=\"\")\n",
        "    tweet = to_lowercase(tweet)\n",
        "    tweet = word_repetition(tweet)\n",
        "    tweet = punct_repetition(tweet, default_replace=\"\")\n",
        "    tweet = fix_contractions(tweet)\n",
        "    tweet = process(tweet)\n",
        "    tweet = re.sub(' +',' ',tweet)\n",
        "    tweet = str(spell_correct(tweet))\n",
        "    translator = str.maketrans(string.punctuation, ' '*len(string.punctuation))\n",
        "    tweet = tweet.translate(translator)\n",
        "\n",
        "    return str(tweet)"
      ]
    },
    {
      "cell_type": "code",
      "execution_count": null,
      "metadata": {
        "colab": {
          "base_uri": "https://localhost:8080/",
          "height": 36
        },
        "id": "sfbdJRM4xDql",
        "outputId": "fae81885-404f-4c10-cb60-20cd32e2d313"
      },
      "outputs": [
        {
          "output_type": "execute_result",
          "data": {
            "text/plain": [
              "'Layin n bed with a headache  ughhhh...waitin on your call...'"
            ],
            "application/vnd.google.colaboratory.intrinsic+json": {
              "type": "string"
            }
          },
          "metadata": {},
          "execution_count": 14
        }
      ],
      "source": [
        "text = df['content'].values[0]\n",
        "text"
      ]
    },
    {
      "cell_type": "code",
      "execution_count": null,
      "metadata": {
        "colab": {
          "base_uri": "https://localhost:8080/",
          "height": 36
        },
        "id": "J64QL_JQxDs0",
        "outputId": "9b1a73a8-eafb-491c-d424-4f1aca750a39"
      },
      "outputs": [
        {
          "output_type": "execute_result",
          "data": {
            "text/plain": [
              "'laying n bed with a headache ugh waiting on your call'"
            ],
            "application/vnd.google.colaboratory.intrinsic+json": {
              "type": "string"
            }
          },
          "metadata": {},
          "execution_count": 15
        }
      ],
      "source": [
        "text = preprocess_text(text)\n",
        "text"
      ]
    },
    {
      "cell_type": "code",
      "execution_count": null,
      "metadata": {
        "id": "mdcybJd0xI39"
      },
      "outputs": [],
      "source": [
        "from tqdm._tqdm_notebook import tqdm_notebook\n",
        "tqdm_notebook.pandas()\n",
        "df['content'] = df['content'].progress_apply(lambda x: preprocess_text(x))"
      ]
    },
    {
      "cell_type": "code",
      "execution_count": null,
      "metadata": {
        "colab": {
          "base_uri": "https://localhost:8080/",
          "height": 165
        },
        "id": "UnFKXbhywHT_",
        "outputId": "571d0e3a-80c3-442a-96ed-54c54bea879a"
      },
      "outputs": [
        {
          "output_type": "error",
          "ename": "NameError",
          "evalue": "ignored",
          "traceback": [
            "\u001b[0;31m---------------------------------------------------------------------------\u001b[0m",
            "\u001b[0;31mNameError\u001b[0m                                 Traceback (most recent call last)",
            "\u001b[0;32m<ipython-input-8-c42a15b2c7cf>\u001b[0m in \u001b[0;36m<module>\u001b[0;34m\u001b[0m\n\u001b[0;32m----> 1\u001b[0;31m \u001b[0mdf\u001b[0m\u001b[0;34m.\u001b[0m\u001b[0mhead\u001b[0m\u001b[0;34m(\u001b[0m\u001b[0;34m)\u001b[0m\u001b[0;34m\u001b[0m\u001b[0;34m\u001b[0m\u001b[0m\n\u001b[0m",
            "\u001b[0;31mNameError\u001b[0m: name 'df' is not defined"
          ]
        }
      ],
      "source": [
        "df.head()"
      ]
    },
    {
      "cell_type": "code",
      "execution_count": null,
      "metadata": {
        "id": "-V4k1D2VwBza",
        "colab": {
          "base_uri": "https://localhost:8080/",
          "height": 182
        },
        "outputId": "0a721ae9-c262-4aa0-a537-7f7b04b7b44d"
      },
      "outputs": [
        {
          "output_type": "error",
          "ename": "NameError",
          "evalue": "ignored",
          "traceback": [
            "\u001b[0;31m---------------------------------------------------------------------------\u001b[0m",
            "\u001b[0;31mNameError\u001b[0m                                 Traceback (most recent call last)",
            "\u001b[0;32m<ipython-input-7-5952d956b6d6>\u001b[0m in \u001b[0;36m<module>\u001b[0;34m\u001b[0m\n\u001b[0;32m----> 1\u001b[0;31m \u001b[0mX\u001b[0m \u001b[0;34m=\u001b[0m \u001b[0mdf\u001b[0m\u001b[0;34m[\u001b[0m\u001b[0;34m[\u001b[0m\u001b[0;34m'content'\u001b[0m\u001b[0;34m]\u001b[0m\u001b[0;34m]\u001b[0m\u001b[0;34m\u001b[0m\u001b[0;34m\u001b[0m\u001b[0m\n\u001b[0m\u001b[1;32m      2\u001b[0m \u001b[0my\u001b[0m \u001b[0;34m=\u001b[0m \u001b[0mdf\u001b[0m\u001b[0;34m[\u001b[0m\u001b[0;34m[\u001b[0m\u001b[0;34m'sentiment'\u001b[0m\u001b[0;34m]\u001b[0m\u001b[0;34m]\u001b[0m\u001b[0;34m\u001b[0m\u001b[0;34m\u001b[0m\u001b[0m\n",
            "\u001b[0;31mNameError\u001b[0m: name 'df' is not defined"
          ]
        }
      ],
      "source": [
        "X = df[['content']]\n",
        "y = df[['sentiment']]"
      ]
    },
    {
      "cell_type": "code",
      "execution_count": null,
      "metadata": {
        "id": "_Xsyy8yQwjfA",
        "colab": {
          "base_uri": "https://localhost:8080/",
          "height": 182
        },
        "outputId": "d438571d-d438-41e3-9e18-915f1f9533b0"
      },
      "outputs": [
        {
          "output_type": "error",
          "ename": "NameError",
          "evalue": "ignored",
          "traceback": [
            "\u001b[0;31m---------------------------------------------------------------------------\u001b[0m",
            "\u001b[0;31mNameError\u001b[0m                                 Traceback (most recent call last)",
            "\u001b[0;32m<ipython-input-6-0c9ddc7c6581>\u001b[0m in \u001b[0;36m<module>\u001b[0;34m\u001b[0m\n\u001b[1;32m      1\u001b[0m \u001b[0;32mfrom\u001b[0m \u001b[0msklearn\u001b[0m\u001b[0;34m.\u001b[0m\u001b[0mmodel_selection\u001b[0m \u001b[0;32mimport\u001b[0m \u001b[0mtrain_test_split\u001b[0m\u001b[0;34m\u001b[0m\u001b[0;34m\u001b[0m\u001b[0m\n\u001b[0;32m----> 2\u001b[0;31m \u001b[0mX_train\u001b[0m\u001b[0;34m,\u001b[0m\u001b[0mX_test\u001b[0m\u001b[0;34m,\u001b[0m\u001b[0my_train\u001b[0m\u001b[0;34m,\u001b[0m\u001b[0my_test\u001b[0m\u001b[0;34m=\u001b[0m\u001b[0mtrain_test_split\u001b[0m\u001b[0;34m(\u001b[0m\u001b[0mX\u001b[0m\u001b[0;34m,\u001b[0m \u001b[0my\u001b[0m\u001b[0;34m,\u001b[0m \u001b[0mstratify\u001b[0m\u001b[0;34m=\u001b[0m\u001b[0my\u001b[0m\u001b[0;34m,\u001b[0m\u001b[0mtest_size\u001b[0m\u001b[0;34m=\u001b[0m\u001b[0;36m0.25\u001b[0m\u001b[0;34m,\u001b[0m \u001b[0mrandom_state\u001b[0m\u001b[0;34m=\u001b[0m\u001b[0;36m101\u001b[0m\u001b[0;34m)\u001b[0m\u001b[0;34m\u001b[0m\u001b[0;34m\u001b[0m\u001b[0m\n\u001b[0m",
            "\u001b[0;31mNameError\u001b[0m: name 'X' is not defined"
          ]
        }
      ],
      "source": [
        "from sklearn.model_selection import train_test_split\n",
        "X_train,X_test,y_train,y_test=train_test_split(X, y, stratify=y,test_size=0.25, random_state=101)"
      ]
    },
    {
      "cell_type": "code",
      "execution_count": null,
      "metadata": {
        "colab": {
          "base_uri": "https://localhost:8080/"
        },
        "id": "BSzybQ7OwlBt",
        "outputId": "ea53f9f7-26a8-46f7-d4d4-944c61793f64"
      },
      "outputs": [
        {
          "output_type": "execute_result",
          "data": {
            "text/plain": [
              "((16839, 1), (16839, 1))"
            ]
          },
          "metadata": {},
          "execution_count": 20
        }
      ],
      "source": [
        "X_train.shape,y_train.shape"
      ]
    },
    {
      "cell_type": "code",
      "execution_count": null,
      "metadata": {
        "colab": {
          "base_uri": "https://localhost:8080/"
        },
        "id": "kNui2lFIwmkK",
        "outputId": "0e04a9af-f3bf-41a2-8b0e-f124988502d7"
      },
      "outputs": [
        {
          "output_type": "execute_result",
          "data": {
            "text/plain": [
              "((5614, 1), (5614, 1))"
            ]
          },
          "metadata": {},
          "execution_count": 21
        }
      ],
      "source": [
        "X_test.shape,y_test.shape"
      ]
    },
    {
      "cell_type": "code",
      "execution_count": null,
      "metadata": {
        "id": "wz4xLlAg34Oo",
        "colab": {
          "base_uri": "https://localhost:8080/",
          "height": 217
        },
        "outputId": "7f6d81c0-0a57-4df8-c135-0a8db6752bc2"
      },
      "outputs": [
        {
          "output_type": "error",
          "ename": "NameError",
          "evalue": "ignored",
          "traceback": [
            "\u001b[0;31m---------------------------------------------------------------------------\u001b[0m",
            "\u001b[0;31mNameError\u001b[0m                                 Traceback (most recent call last)",
            "\u001b[0;32m<ipython-input-5-bb8855b44016>\u001b[0m in \u001b[0;36m<module>\u001b[0;34m\u001b[0m\n\u001b[0;32m----> 1\u001b[0;31m \u001b[0mX_train_copy\u001b[0m \u001b[0;34m=\u001b[0m \u001b[0mX_train\u001b[0m\u001b[0;34m.\u001b[0m\u001b[0mcopy\u001b[0m\u001b[0;34m(\u001b[0m\u001b[0;34m)\u001b[0m\u001b[0;34m\u001b[0m\u001b[0;34m\u001b[0m\u001b[0m\n\u001b[0m\u001b[1;32m      2\u001b[0m \u001b[0mX_test_copy\u001b[0m \u001b[0;34m=\u001b[0m \u001b[0mX_test\u001b[0m\u001b[0;34m.\u001b[0m\u001b[0mcopy\u001b[0m\u001b[0;34m(\u001b[0m\u001b[0;34m)\u001b[0m\u001b[0;34m\u001b[0m\u001b[0;34m\u001b[0m\u001b[0m\n\u001b[1;32m      3\u001b[0m \u001b[0my_train_copy\u001b[0m \u001b[0;34m=\u001b[0m \u001b[0my_train\u001b[0m\u001b[0;34m.\u001b[0m\u001b[0mcopy\u001b[0m\u001b[0;34m(\u001b[0m\u001b[0;34m)\u001b[0m\u001b[0;34m\u001b[0m\u001b[0;34m\u001b[0m\u001b[0m\n\u001b[1;32m      4\u001b[0m \u001b[0my_test_copy\u001b[0m \u001b[0;34m=\u001b[0m \u001b[0my_test\u001b[0m\u001b[0;34m.\u001b[0m\u001b[0mcopy\u001b[0m\u001b[0;34m(\u001b[0m\u001b[0;34m)\u001b[0m\u001b[0;34m\u001b[0m\u001b[0;34m\u001b[0m\u001b[0m\n",
            "\u001b[0;31mNameError\u001b[0m: name 'X_train' is not defined"
          ]
        }
      ],
      "source": [
        "X_train_copy = X_train.copy()\n",
        "X_test_copy = X_test.copy()\n",
        "y_train_copy = y_train.copy()\n",
        "y_test_copy = y_test.copy()"
      ]
    },
    {
      "cell_type": "code",
      "execution_count": null,
      "metadata": {
        "colab": {
          "base_uri": "https://localhost:8080/"
        },
        "id": "h0wfFdQcwoGq",
        "outputId": "0e9e0ffd-5121-4ed2-ad61-e1b1d3aa40c4"
      },
      "outputs": [
        {
          "output_type": "stream",
          "name": "stdout",
          "text": [
            "2.11.0\n"
          ]
        }
      ],
      "source": [
        "import tensorflow as tf\n",
        "print(tf.__version__)"
      ]
    },
    {
      "cell_type": "code",
      "execution_count": null,
      "metadata": {
        "id": "1dyvgN-rwpar"
      },
      "outputs": [],
      "source": [
        "word_tokenizer = tf.keras.preprocessing.text.Tokenizer(\n",
        "    num_words=None,\n",
        "    filters='!\"#$%&()*+,-./:;<=>?@[\\\\]^_`{|}~\\t\\n',\n",
        "    lower=True, split=' ', char_level=False, oov_token=\"\"\n",
        ")\n",
        "\n",
        "word_tokenizer.fit_on_texts(X_train['content'].values)\n",
        "\n",
        "train_text = word_tokenizer.texts_to_sequences(X_train['content'].values)\n",
        "test_text = word_tokenizer.texts_to_sequences(X_test['content'].values)"
      ]
    },
    {
      "cell_type": "code",
      "execution_count": null,
      "metadata": {
        "colab": {
          "base_uri": "https://localhost:8080/"
        },
        "id": "EUoZfWGnwrBe",
        "outputId": "f8ea7e15-ea6f-41a6-c55e-2ba2c434a054"
      },
      "outputs": [
        {
          "output_type": "execute_result",
          "data": {
            "text/plain": [
              "array(['Fear', 'anger', 'disgust', 'happy', 'sad', 'surprise'],\n",
              "      dtype=object)"
            ]
          },
          "metadata": {},
          "execution_count": 25
        }
      ],
      "source": [
        "from sklearn.preprocessing import LabelEncoder\n",
        "encoder = LabelEncoder()\n",
        "train_label = encoder.fit_transform(y_train['sentiment'].values)\n",
        "test_label = encoder.transform(y_test['sentiment'].values)\n",
        "encoder.classes_"
      ]
    },
    {
      "cell_type": "code",
      "execution_count": null,
      "metadata": {
        "colab": {
          "base_uri": "https://localhost:8080/"
        },
        "id": "FPbaY3Z3w2FN",
        "outputId": "16e3819c-9ce1-4971-f512-7315ef45ff56"
      },
      "outputs": [
        {
          "output_type": "stream",
          "name": "stdout",
          "text": [
            "ah so nice to be back on bike commune although three day off and my what goose sez be call my quadriceps literally scream ah\n",
            "happy\n"
          ]
        }
      ],
      "source": [
        "print(X_train['content'].values[0])\n",
        "print(y_train['sentiment'].values[0])"
      ]
    },
    {
      "cell_type": "code",
      "execution_count": null,
      "metadata": {
        "colab": {
          "base_uri": "https://localhost:8080/"
        },
        "id": "gozJazwww7iY",
        "outputId": "d5bcb6aa-fab6-430e-c60b-52b42863e36e"
      },
      "outputs": [
        {
          "output_type": "stream",
          "name": "stdout",
          "text": [
            "[161, 21, 139, 5, 3, 61, 22, 901, 2182, 749, 737, 24, 76, 12, 11, 49, 676, 5401, 3, 154, 11, 5402, 1130, 848, 161]\n",
            "3\n"
          ]
        }
      ],
      "source": [
        "print(train_text[0])\n",
        "print(train_label[0])"
      ]
    },
    {
      "cell_type": "code",
      "execution_count": null,
      "metadata": {
        "colab": {
          "base_uri": "https://localhost:8080/",
          "height": 282
        },
        "id": "r_ATah97w-fk",
        "outputId": "7c0e3447-c1aa-4f33-cef8-7ec11f13fd46"
      },
      "outputs": [
        {
          "output_type": "stream",
          "name": "stdout",
          "text": [
            "Longest sentence length =  37\n"
          ]
        },
        {
          "output_type": "display_data",
          "data": {
            "text/plain": [
              "<Figure size 432x288 with 1 Axes>"
            ],
            "image/png": "[encoded data removed]"
          },
          "metadata": {
            "needs_background": "light"
          }
        }
      ],
      "source": [
        "lengths = [len(seq) for seq in train_text]\n",
        "print('Longest sentence length = ',max(lengths))\n",
        "\n",
        "import matplotlib.pyplot as plt\n",
        "import seaborn as sns\n",
        "\n",
        "sns.boxplot(lengths)\n",
        "plt.show()"
      ]
    },
    {
      "cell_type": "code",
      "execution_count": null,
      "metadata": {
        "id": "AD8a4GdMygm_"
      },
      "outputs": [],
      "source": [
        "max_len = 37\n",
        "\n",
        "X_train = tf.keras.preprocessing.sequence.pad_sequences(\n",
        "    train_text, maxlen = max_len, padding = 'pre',\n",
        "    truncating='post', value=0.0\n",
        ")\n",
        "\n",
        "X_test = tf.keras.preprocessing.sequence.pad_sequences(\n",
        "    test_text, maxlen = X_train.shape[1], dtype = 'int32', padding='pre',\n",
        "    truncating='post', value=0.0\n",
        ")\n",
        "\n",
        "y_train = train_label\n",
        "y_test = test_label"
      ]
    },
    {
      "cell_type": "code",
      "execution_count": null,
      "metadata": {
        "colab": {
          "base_uri": "https://localhost:8080/"
        },
        "id": "jcPF8odbykFm",
        "outputId": "1c99ee5a-4bfd-43ab-c8f3-a55d51fadb17"
      },
      "outputs": [
        {
          "output_type": "execute_result",
          "data": {
            "text/plain": [
              "((16839, 37), (5614, 37))"
            ]
          },
          "metadata": {},
          "execution_count": 30
        }
      ],
      "source": [
        "X_train.shape,X_test.shape"
      ]
    },
    {
      "cell_type": "code",
      "execution_count": null,
      "metadata": {
        "colab": {
          "base_uri": "https://localhost:8080/"
        },
        "id": "bgvC9xoHylm7",
        "outputId": "279dfc3f-c0fd-4794-d773-b5a114cae359"
      },
      "outputs": [
        {
          "output_type": "execute_result",
          "data": {
            "text/plain": [
              "((16839,), (5614,))"
            ]
          },
          "metadata": {},
          "execution_count": 31
        }
      ],
      "source": [
        "y_train.shape,y_test.shape"
      ]
    },
    {
      "cell_type": "code",
      "execution_count": null,
      "metadata": {
        "id": "56Ee68wKynFx"
      },
      "outputs": [],
      "source": [
        "import numpy as np\n",
        "output_vec = 100\n",
        "vocab_size = len(word_tokenizer.word_index) + 1\n",
        "num_classes = max(np.unique(y_train)) + 1"
      ]
    },
    {
      "cell_type": "code",
      "execution_count": null,
      "metadata": {
        "colab": {
          "base_uri": "https://localhost:8080/"
        },
        "id": "_W6kwTspyotm",
        "outputId": "3e5dc8d8-9566-437c-d57b-b242e1d40e25"
      },
      "outputs": [
        {
          "output_type": "execute_result",
          "data": {
            "text/plain": [
              "6"
            ]
          },
          "metadata": {},
          "execution_count": 33
        }
      ],
      "source": [
        "num_classes"
      ]
    },
    {
      "cell_type": "code",
      "execution_count": null,
      "metadata": {
        "id": "L64nqv3EyqRl"
      },
      "outputs": [],
      "source": [
        "lstm_model = tf.keras.Sequential()\n",
        "lstm_model.add(tf.keras.layers.Embedding(input_dim = vocab_size,output_dim = output_vec, input_length = max_len, trainable = True)) \n",
        "lstm_model.add(tf.keras.layers.LSTM(units = 64, activation=\"tanh\", return_sequences=False, return_state=False)) #dropout=0.2\n",
        "lstm_model.add(tf.keras.layers.Dense(num_classes, activation = tf.nn.softmax, name='output_layer'))"
      ]
    },
    {
      "cell_type": "code",
      "execution_count": null,
      "metadata": {
        "colab": {
          "base_uri": "https://localhost:8080/",
          "height": 422
        },
        "id": "z0YBV2JOytke",
        "outputId": "e1efb8e1-40fa-4397-c99d-4aa0bc126c36"
      },
      "outputs": [
        {
          "output_type": "execute_result",
          "data": {
            "image/png": "[encoded data removed]",
            "text/plain": [
              "<IPython.core.display.Image object>"
            ]
          },
          "metadata": {},
          "execution_count": 35
        }
      ],
      "source": [
        "tf.keras.utils.plot_model(lstm_model, 'model.png', show_shapes=True)"
      ]
    },
    {
      "cell_type": "code",
      "execution_count": null,
      "metadata": {
        "colab": {
          "base_uri": "https://localhost:8080/"
        },
        "id": "JMOCaIf0zjWP",
        "outputId": "1d40ea27-b184-4f42-965d-caf36a2df9fa"
      },
      "outputs": [
        {
          "output_type": "stream",
          "name": "stdout",
          "text": [
            "Model: \"sequential\"\n",
            "_________________________________________________________________\n",
            " Layer (type)                Output Shape              Param #   \n",
            "=================================================================\n",
            " embedding (Embedding)       (None, 37, 100)           993100    \n",
            "                                                                 \n",
            " lstm (LSTM)                 (None, 64)                42240     \n",
            "                                                                 \n",
            " output_layer (Dense)        (None, 6)                 390       \n",
            "                                                                 \n",
            "=================================================================\n",
            "Total params: 1,035,730\n",
            "Trainable params: 1,035,730\n",
            "Non-trainable params: 0\n",
            "_________________________________________________________________\n"
          ]
        }
      ],
      "source": [
        "lstm_model.summary()"
      ]
    },
    {
      "cell_type": "code",
      "execution_count": null,
      "metadata": {
        "id": "ASABO59qzZ_H"
      },
      "outputs": [],
      "source": [
        "from sklearn.metrics import confusion_matrix,balanced_accuracy_score\n",
        "import numpy as np\n",
        "from sample import predict_score\n",
        "import warnings\n",
        "warnings.filterwarnings(\"ignore\")\n",
        "\n",
        "def balanced_accuracy(y_true, y_pred):\n",
        "  y_true = y_true.numpy()\n",
        "  y_pred = y_pred.numpy()\n",
        "  y_pred = np.argmax(y_pred,axis=-1)\n",
        "\n",
        "  y_true = y_true.ravel().astype('int32')\n",
        "  y_pred = y_pred.ravel().astype('int32')\n",
        "  return balanced_accuracy_score(y_true,y_pred)"
      ]
    },
    {
      "cell_type": "code",
      "execution_count": null,
      "metadata": {
        "id": "X3jlrRFrysBC"
      },
      "outputs": [],
      "source": [
        "lstm_model.compile(optimizer = tf.keras.optimizers.Adam(learning_rate = 0.001), \n",
        "              loss = tf.keras.losses.sparse_categorical_crossentropy, #binary_crossentropy\n",
        "              metrics = predict_score.accuracy, run_eagerly=True )"
      ]
    },
    {
      "cell_type": "code",
      "execution_count": null,
      "metadata": {
        "id": "TLn1tbWKyxmn"
      },
      "outputs": [],
      "source": [
        "batch_size = 32\n",
        "steps_per_epoch = len(X_train) // batch_size\n",
        "validation_batch_size = 32\n",
        "validation_steps = len(X_test) // validation_batch_size"
      ]
    },
    {
      "cell_type": "code",
      "execution_count": null,
      "metadata": {
        "id": "SjjaJJg0y0CW"
      },
      "outputs": [],
      "source": [
        "callback = tf.keras.callbacks.EarlyStopping(\n",
        "    monitor='val_balanced_accuracy', min_delta=0, patience=5,\n",
        "    mode='max', baseline=None, restore_best_weights=True\n",
        ")"
      ]
    },
    {
      "cell_type": "code",
      "execution_count": null,
      "metadata": {
        "colab": {
          "base_uri": "https://localhost:8080/"
        },
        "id": "MMLj0-yEy1bi",
        "outputId": "c48999d3-b865-489f-937e-ee9e4c4943d0"
      },
      "outputs": [
        {
          "output_type": "stream",
          "name": "stdout",
          "text": [
            "Results for LSTM Classifier:-\n",
            "\n",
            "Epoch 1/5\n"
          ]
        },
        {
          "output_type": "stream",
          "name": "stderr",
          "text": [
            "WARNING:tensorflow:5 out of the last 5 calls to <function _BaseOptimizer._update_step_xla at 0x7fccc636ab80> triggered tf.function retracing. Tracing is expensive and the excessive number of tracings could be due to (1) creating @tf.function repeatedly in a loop, (2) passing tensors with different shapes, (3) passing Python objects instead of tensors. For (1), please define your @tf.function outside of the loop. For (2), @tf.function has reduce_retracing=True option that can avoid unnecessary retracing. For (3), please refer to https://www.tensorflow.org/guide/function#controlling_retracing and https://www.tensorflow.org/api_docs/python/tf/function for  more details.\n",
            "WARNING:tensorflow:6 out of the last 6 calls to <function _BaseOptimizer._update_step_xla at 0x7fccc636ab80> triggered tf.function retracing. Tracing is expensive and the excessive number of tracings could be due to (1) creating @tf.function repeatedly in a loop, (2) passing tensors with different shapes, (3) passing Python objects instead of tensors. For (1), please define your @tf.function outside of the loop. For (2), @tf.function has reduce_retracing=True option that can avoid unnecessary retracing. For (3), please refer to https://www.tensorflow.org/guide/function#controlling_retracing and https://www.tensorflow.org/api_docs/python/tf/function for  more details.\n"
          ]
        },
        {
          "output_type": "stream",
          "name": "stdout",
          "text": [
            "525/526 [============================>.] - ETA: 0s - loss: 1.3763 - accuracy: 0.6213"
          ]
        },
        {
          "output_type": "stream",
          "name": "stderr",
          "text": [
            "WARNING:tensorflow:Early stopping conditioned on metric `val_balanced_accuracy` which is not available. Available metrics are: loss,accuracy,val_loss,val_accuracy\n"
          ]
        },
        {
          "output_type": "stream",
          "name": "stdout",
          "text": [
            "\b\b\b\b\b\b\b\b\b\b\b\b\b\b\b\b\b\b\b\b\b\b\b\b\b\b\b\b\b\b\b\b\b\b\b\b\b\b\b\b\b\b\b\b\b\b\b\b\b\b\b\b\b\b\b\b\b\b\b\b\b\b\b\b\b\b\b\b\b\b\b\b\b\b\b\b\b\b\b\b\b\b\b\b\r526/526 [==============================] - 46s 76ms/step - loss: 1.3761 - accuracy: 0.6218 - val_loss: 1.3157 - val_accuracy: 0.9252\n",
            "Epoch 2/5\n",
            "525/526 [============================>.] - ETA: 0s - loss: 1.1612 - accuracy: 0.9238"
          ]
        },
        {
          "output_type": "stream",
          "name": "stderr",
          "text": [
            "WARNING:tensorflow:Early stopping conditioned on metric `val_balanced_accuracy` which is not available. Available metrics are: loss,accuracy,val_loss,val_accuracy\n"
          ]
        },
        {
          "output_type": "stream",
          "name": "stdout",
          "text": [
            "\b\b\b\b\b\b\b\b\b\b\b\b\b\b\b\b\b\b\b\b\b\b\b\b\b\b\b\b\b\b\b\b\b\b\b\b\b\b\b\b\b\b\b\b\b\b\b\b\b\b\b\b\b\b\b\b\b\b\b\b\b\b\b\b\b\b\b\b\b\b\b\b\b\b\b\b\b\b\b\b\b\b\b\b\r526/526 [==============================] - 28s 52ms/step - loss: 1.1609 - accuracy: 0.9238 - val_loss: 1.2881 - val_accuracy: 0.9271\n",
            "Epoch 3/5\n",
            "525/526 [============================>.] - ETA: 0s - loss: 1.0003 - accuracy: 0.9254"
          ]
        },
        {
          "output_type": "stream",
          "name": "stderr",
          "text": [
            "WARNING:tensorflow:Early stopping conditioned on metric `val_balanced_accuracy` which is not available. Available metrics are: loss,accuracy,val_loss,val_accuracy\n"
          ]
        },
        {
          "output_type": "stream",
          "name": "stdout",
          "text": [
            "\b\b\b\b\b\b\b\b\b\b\b\b\b\b\b\b\b\b\b\b\b\b\b\b\b\b\b\b\b\b\b\b\b\b\b\b\b\b\b\b\b\b\b\b\b\b\b\b\b\b\b\b\b\b\b\b\b\b\b\b\b\b\b\b\b\b\b\b\b\b\b\b\b\b\b\b\b\b\b\b\b\b\b\b\r526/526 [==============================] - 22s 42ms/step - loss: 1.0002 - accuracy: 0.9254 - val_loss: 1.3699 - val_accuracy: 0.9260\n",
            "Epoch 4/5\n",
            "526/526 [==============================] - ETA: 0s - loss: 0.8538 - accuracy: 0.9257"
          ]
        },
        {
          "output_type": "stream",
          "name": "stderr",
          "text": [
            "WARNING:tensorflow:Early stopping conditioned on metric `val_balanced_accuracy` which is not available. Available metrics are: loss,accuracy,val_loss,val_accuracy\n"
          ]
        },
        {
          "output_type": "stream",
          "name": "stdout",
          "text": [
            "\b\b\b\b\b\b\b\b\b\b\b\b\b\b\b\b\b\b\b\b\b\b\b\b\b\b\b\b\b\b\b\b\b\b\b\b\b\b\b\b\b\b\b\b\b\b\b\b\b\b\b\b\b\b\b\b\b\b\b\b\b\b\b\b\b\b\b\b\b\b\b\b\b\b\b\b\b\b\b\b\b\b\b\b\r526/526 [==============================] - 25s 47ms/step - loss: 0.8538 - accuracy: 0.9257 - val_loss: 1.4735 - val_accuracy: 0.9227\n",
            "Epoch 5/5\n",
            "526/526 [==============================] - ETA: 0s - loss: 0.7218 - accuracy: 0.9253"
          ]
        },
        {
          "output_type": "stream",
          "name": "stderr",
          "text": [
            "WARNING:tensorflow:Early stopping conditioned on metric `val_balanced_accuracy` which is not available. Available metrics are: loss,accuracy,val_loss,val_accuracy\n"
          ]
        },
        {
          "output_type": "stream",
          "name": "stdout",
          "text": [
            "\b\b\b\b\b\b\b\b\b\b\b\b\b\b\b\b\b\b\b\b\b\b\b\b\b\b\b\b\b\b\b\b\b\b\b\b\b\b\b\b\b\b\b\b\b\b\b\b\b\b\b\b\b\b\b\b\b\b\b\b\b\b\b\b\b\b\b\b\b\b\b\b\b\b\b\b\b\b\b\b\b\b\b\b\r526/526 [==============================] - 23s 45ms/step - loss: 0.7218 - accuracy: 0.9253 - val_loss: 1.5757 - val_accuracy: 0.9234\n",
            "\n",
            "Training time(sec) =  202.21543765068054\n"
          ]
        }
      ],
      "source": [
        "import time\n",
        "print('Results for LSTM Classifier:-\\n')\n",
        "start_time = time.time()\n",
        "\n",
        "result1 = lstm_model.fit(X_train, y_train, \n",
        "                   validation_data = (X_test, y_test), \n",
        "                   callbacks=[callback],\n",
        "                   epochs = 5,\n",
        "                   batch_size = batch_size,\n",
        "                   steps_per_epoch = steps_per_epoch, \n",
        "                   validation_batch_size = validation_batch_size,\n",
        "                   validation_steps = validation_steps)\n",
        "\n",
        "model_time = (time.time() - start_time)\n",
        "print('\\nTraining time(sec) = ',model_time)"
      ]
    },
    {
      "cell_type": "code",
      "execution_count": null,
      "metadata": {
        "colab": {
          "base_uri": "https://localhost:8080/",
          "height": 545
        },
        "id": "Nm734bVNzBVb",
        "outputId": "e7893b1a-9418-44a3-fe08-c76c4ad4a2ce"
      },
      "outputs": [
        {
          "output_type": "display_data",
          "data": {
            "text/plain": [
              "<Figure size 432x288 with 1 Axes>"
            ],
            "image/png": "[encoded data removed]"
          },
          "metadata": {
            "needs_background": "light"
          }
        },
        {
          "output_type": "display_data",
          "data": {
            "text/plain": [
              "<Figure size 432x288 with 1 Axes>"
            ],
            "image/png": "[encoded data removed]"
          },
          "metadata": {
            "needs_background": "light"
          }
        }
      ],
      "source": [
        "plt.title('Loss')\n",
        "plt.plot(result1.history['loss'], label='train')\n",
        "plt.plot(result1.history['val_loss'], label='test')\n",
        "plt.title('Train_loss vs Val_loss')\n",
        "plt.grid()\n",
        "plt.legend()\n",
        "plt.show();\n",
        "\n",
        "plt.title('Accuracy')\n",
        "plt.plot(result1.history['accuracy'], label='train')\n",
        "plt.plot(result1.history['val_accuracy'], label='test')\n",
        "plt.title('Train_balanced_accuracy vs Val_balanced_accuracy')\n",
        "plt.grid()\n",
        "plt.legend()\n",
        "plt.show();"
      ]
    },
    {
      "cell_type": "code",
      "source": [
        "!pip install scikit-plot"
      ],
      "metadata": {
        "colab": {
          "base_uri": "https://localhost:8080/"
        },
        "id": "k7rM5_dk2Uk-",
        "outputId": "bc844960-6a6e-4355-8af6-fb10f664d6a0"
      },
      "execution_count": null,
      "outputs": [
        {
          "output_type": "stream",
          "name": "stdout",
          "text": [
            "Looking in indexes: https://pypi.org/simple, https://us-python.pkg.dev/colab-wheels/public/simple/\n",
            "Collecting scikit-plot\n",
            "  Downloading scikit_plot-0.3.7-py3-none-any.whl (33 kB)\n",
            "Requirement already satisfied: scipy>=0.9 in /usr/local/lib/python3.9/dist-packages (from scikit-plot) (1.10.1)\n",
            "Requirement already satisfied: matplotlib>=1.4.0 in /usr/local/lib/python3.9/dist-packages (from scikit-plot) (3.7.1)\n",
            "Requirement already satisfied: scikit-learn>=0.18 in /usr/local/lib/python3.9/dist-packages (from scikit-plot) (1.2.2)\n",
            "Requirement already satisfied: joblib>=0.10 in /usr/local/lib/python3.9/dist-packages (from scikit-plot) (1.1.1)\n",
            "Requirement already satisfied: pillow>=6.2.0 in /usr/local/lib/python3.9/dist-packages (from matplotlib>=1.4.0->scikit-plot) (8.4.0)\n",
            "Requirement already satisfied: pyparsing>=2.3.1 in /usr/local/lib/python3.9/dist-packages (from matplotlib>=1.4.0->scikit-plot) (3.0.9)\n",
            "Requirement already satisfied: packaging>=20.0 in /usr/local/lib/python3.9/dist-packages (from matplotlib>=1.4.0->scikit-plot) (23.0)\n",
            "Requirement already satisfied: kiwisolver>=1.0.1 in /usr/local/lib/python3.9/dist-packages (from matplotlib>=1.4.0->scikit-plot) (1.4.4)\n",
            "Requirement already satisfied: fonttools>=4.22.0 in /usr/local/lib/python3.9/dist-packages (from matplotlib>=1.4.0->scikit-plot) (4.39.0)\n",
            "Requirement already satisfied: python-dateutil>=2.7 in /usr/local/lib/python3.9/dist-packages (from matplotlib>=1.4.0->scikit-plot) (2.8.2)\n",
            "Requirement already satisfied: contourpy>=1.0.1 in /usr/local/lib/python3.9/dist-packages (from matplotlib>=1.4.0->scikit-plot) (1.0.7)\n",
            "Requirement already satisfied: importlib-resources>=3.2.0 in /usr/local/lib/python3.9/dist-packages (from matplotlib>=1.4.0->scikit-plot) (5.12.0)\n",
            "Requirement already satisfied: numpy>=1.20 in /usr/local/lib/python3.9/dist-packages (from matplotlib>=1.4.0->scikit-plot) (1.22.4)\n",
            "Requirement already satisfied: cycler>=0.10 in /usr/local/lib/python3.9/dist-packages (from matplotlib>=1.4.0->scikit-plot) (0.11.0)\n",
            "Requirement already satisfied: threadpoolctl>=2.0.0 in /usr/local/lib/python3.9/dist-packages (from scikit-learn>=0.18->scikit-plot) (3.1.0)\n",
            "Requirement already satisfied: zipp>=3.1.0 in /usr/local/lib/python3.9/dist-packages (from importlib-resources>=3.2.0->matplotlib>=1.4.0->scikit-plot) (3.15.0)\n",
            "Requirement already satisfied: six>=1.5 in /usr/local/lib/python3.9/dist-packages (from python-dateutil>=2.7->matplotlib>=1.4.0->scikit-plot) (1.15.0)\n",
            "Installing collected packages: scikit-plot\n",
            "Successfully installed scikit-plot-0.3.7\n"
          ]
        }
      ]
    },
    {
      "cell_type": "code",
      "source": [
        "from google.colab import drive\n",
        "drive.mount('/content/drive')"
      ],
      "metadata": {
        "colab": {
          "base_uri": "https://localhost:8080/"
        },
        "id": "OpAtZPQizVz2",
        "outputId": "26dd866c-22a1-401f-9763-184602de0dec"
      },
      "execution_count": null,
      "outputs": [
        {
          "output_type": "stream",
          "name": "stdout",
          "text": [
            "Mounted at /content/drive\n"
          ]
        }
      ]
    },
    {
      "cell_type": "code",
      "execution_count": null,
      "metadata": {
        "id": "LdiApyPj3xzg",
        "colab": {
          "base_uri": "https://localhost:8080/",
          "height": 217
        },
        "outputId": "2cf40515-6fef-47aa-acfe-ab955dfc576d"
      },
      "outputs": [
        {
          "output_type": "error",
          "ename": "NameError",
          "evalue": "ignored",
          "traceback": [
            "\u001b[0;31m---------------------------------------------------------------------------\u001b[0m",
            "\u001b[0;31mNameError\u001b[0m                                 Traceback (most recent call last)",
            "\u001b[0;32m<ipython-input-4-c1ed40ff78b0>\u001b[0m in \u001b[0;36m<module>\u001b[0;34m\u001b[0m\n\u001b[0;32m----> 1\u001b[0;31m \u001b[0mX_train\u001b[0m \u001b[0;34m=\u001b[0m \u001b[0mX_train_copy\u001b[0m\u001b[0;34m.\u001b[0m\u001b[0mcopy\u001b[0m\u001b[0;34m(\u001b[0m\u001b[0;34m)\u001b[0m\u001b[0;34m\u001b[0m\u001b[0;34m\u001b[0m\u001b[0m\n\u001b[0m\u001b[1;32m      2\u001b[0m \u001b[0mX_test\u001b[0m \u001b[0;34m=\u001b[0m \u001b[0mX_test_copy\u001b[0m\u001b[0;34m.\u001b[0m\u001b[0mcopy\u001b[0m\u001b[0;34m(\u001b[0m\u001b[0;34m)\u001b[0m\u001b[0;34m\u001b[0m\u001b[0;34m\u001b[0m\u001b[0m\n\u001b[1;32m      3\u001b[0m \u001b[0my_train\u001b[0m \u001b[0;34m=\u001b[0m \u001b[0my_train_copy\u001b[0m\u001b[0;34m.\u001b[0m\u001b[0mcopy\u001b[0m\u001b[0;34m(\u001b[0m\u001b[0;34m)\u001b[0m\u001b[0;34m\u001b[0m\u001b[0;34m\u001b[0m\u001b[0m\n\u001b[1;32m      4\u001b[0m \u001b[0my_test\u001b[0m \u001b[0;34m=\u001b[0m \u001b[0my_test_copy\u001b[0m\u001b[0;34m.\u001b[0m\u001b[0mcopy\u001b[0m\u001b[0;34m(\u001b[0m\u001b[0;34m)\u001b[0m\u001b[0;34m\u001b[0m\u001b[0;34m\u001b[0m\u001b[0m\n",
            "\u001b[0;31mNameError\u001b[0m: name 'X_train_copy' is not defined"
          ]
        }
      ],
      "source": [
        "X_train = X_train_copy.copy()\n",
        "X_test = X_test_copy.copy()\n",
        "y_train = y_train_copy.copy()\n",
        "y_test = y_test_copy.copy()"
      ]
    },
    {
      "cell_type": "code",
      "execution_count": null,
      "metadata": {
        "colab": {
          "base_uri": "https://localhost:8080/"
        },
        "id": "IAcdgq0a47XN",
        "outputId": "659b845c-2990-478b-c78d-f94d7c30c509"
      },
      "outputs": [
        {
          "data": {
            "text/plain": [
              "((16839, 1), (5614, 1))"
            ]
          },
          "execution_count": 47,
          "metadata": {},
          "output_type": "execute_result"
        }
      ],
      "source": [
        "X_train.shape,X_test.shape"
      ]
    },
    {
      "cell_type": "code",
      "execution_count": null,
      "metadata": {
        "colab": {
          "base_uri": "https://localhost:8080/"
        },
        "id": "MaU146fm4-Mr",
        "outputId": "8bf9b076-9762-40b2-976a-57ecac1e2918"
      },
      "outputs": [
        {
          "data": {
            "text/plain": [
              "((16839, 1), (5614, 1))"
            ]
          },
          "execution_count": 48,
          "metadata": {},
          "output_type": "execute_result"
        }
      ],
      "source": [
        "y_train.shape,y_test.shape"
      ]
    },
    {
      "cell_type": "code",
      "execution_count": null,
      "metadata": {
        "id": "iDzckt6J5UIS"
      },
      "outputs": [],
      "source": [
        "from sklearn.feature_extraction.text import TfidfVectorizer\n",
        "vec = TfidfVectorizer()\n",
        "X_train = vec.fit_transform(X_train.values.ravel())\n",
        "X_test = vec.transform(X_test.values.ravel())"
      ]
    },
    {
      "cell_type": "code",
      "execution_count": null,
      "metadata": {
        "colab": {
          "base_uri": "https://localhost:8080/"
        },
        "id": "npIT_30v5tA5",
        "outputId": "c56b0159-8adf-4330-c4c0-5ddfa837eea7"
      },
      "outputs": [
        {
          "data": {
            "text/plain": [
              "((16839, 9826), (5614, 9826))"
            ]
          },
          "execution_count": 50,
          "metadata": {},
          "output_type": "execute_result"
        }
      ],
      "source": [
        "X_train.shape,X_test.shape"
      ]
    },
    {
      "cell_type": "code",
      "execution_count": null,
      "metadata": {
        "id": "CGlpL2Pd5uBt"
      },
      "outputs": [],
      "source": [
        "import time\n",
        "import scikitplot as skplt\n",
        "from sklearn.metrics import classification_report,confusion_matrix,balanced_accuracy_score"
      ]
    },
    {
      "cell_type": "code",
      "execution_count": null,
      "metadata": {
        "colab": {
          "base_uri": "https://localhost:8080/"
        },
        "id": "-IV7J0d86dXK",
        "outputId": "d118ff89-b46f-4e2a-ee89-4e37b164045e"
      },
      "outputs": [
        {
          "data": {
            "text/plain": [
              "array(['Fear', 'anger', 'disgust', 'happy', 'sad', 'surprise'],\n",
              "      dtype=object)"
            ]
          },
          "execution_count": 52,
          "metadata": {},
          "output_type": "execute_result"
        }
      ],
      "source": [
        "label = np.unique(y_train)\n",
        "label"
      ]
    },
    {
      "cell_type": "code",
      "execution_count": null,
      "metadata": {
        "colab": {
          "base_uri": "https://localhost:8080/",
          "height": 1000
        },
        "id": "Y30oPBSC6pku",
        "outputId": "0610624b-00ca-46e8-8647-303bfbdecfc1"
      },
      "outputs": [
        {
          "name": "stdout",
          "output_type": "stream",
          "text": [
            "Results for Logistic regression:-\n",
            "\n",
            "********************************************************************************\n",
            "\n",
            "Training time(sec) =  3.0906336307525635\n",
            "Prediction time(sec) =  0.0013496875762939453\n",
            "\n",
            "\n",
            "********************************************************************************\n",
            "\n",
            "Training score =  0.7286584232351152\n",
            "Tesing score =  0.35533453459814496\n",
            "\n",
            "\n",
            "********************************************************************************\n",
            "\n",
            "\n",
            "No of missclassified for class Fear (test data) = 1399 \n",
            "No of missclassified for class anger (test data) = 27 \n",
            "No of missclassified for class disgust (test data) = 179 \n",
            "No of missclassified for class happy (test data) = 478 \n",
            "No of missclassified for class sad (test data) = 788 \n",
            "No of missclassified for class surprise (test data) = 396 \n",
            "-----------------------------------------------------------------\n",
            "Total no of missclassified points (test data) =  3267\n",
            "Total % of missclassified points (test data) =  58.193801211257565\n",
            "\n",
            "\n",
            "********************************************************************************\n",
            "\n",
            "\n",
            "Confusion matrix:\n"
          ]
        },
        {
          "data": {
            "image/png": "[encoded data removed]",
            "text/plain": [
              "<Figure size 432x288 with 2 Axes>"
            ]
          },
          "metadata": {},
          "output_type": "display_data"
        },
        {
          "name": "stdout",
          "output_type": "stream",
          "text": [
            "\n",
            "\n",
            "********************************************************************************\n",
            "\n",
            "\n",
            "Classification report:-\n",
            "\n",
            "              precision    recall  f1-score   support\n",
            "\n",
            "        Fear       0.53      0.34      0.41      2115\n",
            "       anger       0.01      0.04      0.02        28\n",
            "     disgust       0.24      0.46      0.32       331\n",
            "       happy       0.56      0.63      0.59      1302\n",
            "         sad       0.42      0.39      0.40      1291\n",
            "    surprise       0.17      0.28      0.21       547\n",
            "\n",
            "    accuracy                           0.42      5614\n",
            "   macro avg       0.32      0.36      0.33      5614\n",
            "weighted avg       0.46      0.42      0.43      5614\n",
            "\n",
            "\n",
            "\n",
            "********************************************************************************\n"
          ]
        }
      ],
      "source": [
        "from sklearn.linear_model import LogisticRegression\n",
        "lr = LogisticRegression(C=1.0, \n",
        "                        penalty='l2',           #or 'l1','elasticnet','none'\n",
        "                        solver='lbfgs',         #or 'newton-cg'\n",
        "                        multi_class='auto',     #or 'ovr','multinomial'\n",
        "                        l1_ratio=None,          #or 0 <= l1_ratio <= 1 but only used if penalty='elasticnet'\n",
        "                        class_weight='balanced', n_jobs=-1)\n",
        "\n",
        "print('Results for Logistic regression:-\\n')\n",
        "start_time = time.time()\n",
        "lr.fit(X_train,y_train)\n",
        "lr_time = (time.time() - start_time)\n",
        "print('*'*80) \n",
        "print('\\nTraining time(sec) = ',lr_time)\n",
        "\n",
        "y_pred1 = lr.predict(X_train)\n",
        "\n",
        "start_time = time.time()\n",
        "y_pred = lr.predict(X_test)\n",
        "lr_time2 = (time.time() - start_time)\n",
        "print('Prediction time(sec) = ',lr_time2)\n",
        "\n",
        "cm_lr = confusion_matrix(y_test, y_pred)\n",
        "lr_miss = np.sum(y_pred!=y_test.values.ravel())\n",
        "acc1_lr = balanced_accuracy_score(y_train,y_pred1)\n",
        "acc2_lr = balanced_accuracy_score(y_test,y_pred)\n",
        "print('\\n')\n",
        "print('*'*80) \n",
        "\n",
        "print('\\nTraining score = ',acc1_lr)\n",
        "print('Tesing score = ',acc2_lr)\n",
        "print('\\n')\n",
        "print('*'*80)  \n",
        "\n",
        "print('\\n')\n",
        "for i in range(len(np.unique(y_train.values.ravel()))):\n",
        "    err = np.sum(cm_lr[i])-cm_lr[i][i]\n",
        "    print('No of missclassified for class {} (test data) = {} '.format(label[i],err))\n",
        "print('-'*65)   \n",
        "print('Total no of missclassified points (test data) = ',lr_miss)\n",
        "print('Total % of missclassified points (test data) = ',(lr_miss/len(y_test))*100)\n",
        "print('\\n')\n",
        "print('*'*80) \n",
        "\n",
        "print('\\n\\nConfusion matrix:')\n",
        "skplt.metrics.plot_confusion_matrix(y_test, y_pred)\n",
        "plt.show()\n",
        "print('\\n')\n",
        "print('*'*80) \n",
        "\n",
        "print('\\n\\nClassification report:-\\n')\n",
        "print(classification_report(y_test,y_pred))\n",
        "print('\\n')\n",
        "print('*'*80) \n",
        "\n",
        "LR = [acc1_lr, acc2_lr, lr_miss, lr_miss/len(y_test), lr_time, lr_time2]"
      ]
    },
    {
      "cell_type": "code",
      "execution_count": null,
      "metadata": {
        "colab": {
          "base_uri": "https://localhost:8080/",
          "height": 1000
        },
        "id": "N6TE3gRD62fZ",
        "outputId": "8e7814e5-6578-44e7-d36c-2ed8d511c49f"
      },
      "outputs": [
        {
          "name": "stdout",
          "output_type": "stream",
          "text": [
            "Results for Multinomial naive bayes classifier:-\n",
            "\n",
            "********************************************************************************\n",
            "\n",
            "Training time(sec) =  0.053240060806274414\n",
            "Prediction time(sec) =  0.001268625259399414\n",
            "\n",
            "\n",
            "********************************************************************************\n",
            "\n",
            "Training score =  0.3996596651533193\n",
            "Tesing score =  0.26659250491052616\n",
            "\n",
            "\n",
            "********************************************************************************\n",
            "\n",
            "\n",
            "No of missclassified for class Fear (test data) = 522 \n",
            "No of missclassified for class anger (test data) = 28 \n",
            "No of missclassified for class disgust (test data) = 311 \n",
            "No of missclassified for class happy (test data) = 607 \n",
            "No of missclassified for class sad (test data) = 982 \n",
            "No of missclassified for class surprise (test data) = 540 \n",
            "-----------------------------------------------------------------\n",
            "Total no of missclassified points (test data) =  2990\n",
            "Total % of missclassified points (test data) =  53.259707873174214\n",
            "\n",
            "\n",
            "********************************************************************************\n",
            "\n",
            "\n",
            "Confusion matrix:\n"
          ]
        },
        {
          "data": {
            "image/png": "[encoded data removed]",
            "text/plain": [
              "<Figure size 432x288 with 2 Axes>"
            ]
          },
          "metadata": {},
          "output_type": "display_data"
        },
        {
          "name": "stdout",
          "output_type": "stream",
          "text": [
            "\n",
            "\n",
            "********************************************************************************\n",
            "\n",
            "\n",
            "Classification report:-\n",
            "\n",
            "              precision    recall  f1-score   support\n",
            "\n",
            "        Fear       0.45      0.75      0.56      2115\n",
            "       anger       0.00      0.00      0.00        28\n",
            "     disgust       0.43      0.06      0.11       331\n",
            "       happy       0.60      0.53      0.56      1302\n",
            "         sad       0.39      0.24      0.30      1291\n",
            "    surprise       0.13      0.01      0.02       547\n",
            "\n",
            "    accuracy                           0.47      5614\n",
            "   macro avg       0.33      0.27      0.26      5614\n",
            "weighted avg       0.43      0.47      0.42      5614\n",
            "\n",
            "\n",
            "\n",
            "********************************************************************************\n"
          ]
        }
      ],
      "source": [
        "from sklearn.naive_bayes import MultinomialNB\n",
        "mnb = MultinomialNB(alpha=1.0, fit_prior = False)\n",
        "\n",
        "print('Results for Multinomial naive bayes classifier:-\\n')\n",
        "start_time = time.time()\n",
        "mnb.fit(X_train,y_train)\n",
        "mnb_time = (time.time() - start_time)\n",
        "print('*'*80) \n",
        "print('\\nTraining time(sec) = ',mnb_time)\n",
        "\n",
        "y_pred1 = mnb.predict(X_train)\n",
        "\n",
        "start_time = time.time()\n",
        "y_pred = mnb.predict(X_test)\n",
        "mnb_time2 = (time.time() - start_time)\n",
        "print('Prediction time(sec) = ',mnb_time2)\n",
        "\n",
        "cm_mnb = confusion_matrix(y_test, y_pred)\n",
        "mnb_miss = np.sum(y_pred!=y_test.values.ravel())\n",
        "acc1_mnb = balanced_accuracy_score(y_train,y_pred1)\n",
        "acc2_mnb = balanced_accuracy_score(y_test,y_pred)\n",
        "print('\\n')\n",
        "print('*'*80) \n",
        "\n",
        "print('\\nTraining score = ',acc1_mnb)\n",
        "print('Tesing score = ',acc2_mnb)\n",
        "print('\\n')\n",
        "print('*'*80)  \n",
        "\n",
        "print('\\n')\n",
        "for i in range(len(np.unique(y_train.values.ravel()))):\n",
        "    err = np.sum(cm_mnb[i])-cm_mnb[i][i]\n",
        "    print('No of missclassified for class {} (test data) = {} '.format(label[i],err))\n",
        "print('-'*65)   \n",
        "print('Total no of missclassified points (test data) = ',mnb_miss)\n",
        "print('Total % of missclassified points (test data) = ',(mnb_miss/len(y_test))*100)\n",
        "print('\\n')\n",
        "print('*'*80) \n",
        "\n",
        "print('\\n\\nConfusion matrix:')\n",
        "skplt.metrics.plot_confusion_matrix(y_test, y_pred)\n",
        "plt.show()\n",
        "print('\\n')\n",
        "print('*'*80) \n",
        "\n",
        "print('\\n\\nClassification report:-\\n')\n",
        "print(classification_report(y_test,y_pred))\n",
        "print('\\n')\n",
        "print('*'*80) \n",
        "\n",
        "MNB = [acc1_mnb, acc2_mnb, mnb_miss, mnb_miss/len(y_test), mnb_time, mnb_time2]"
      ]
    },
    {
      "cell_type": "code",
      "execution_count": null,
      "metadata": {
        "colab": {
          "base_uri": "https://localhost:8080/",
          "height": 205
        },
        "id": "GMNggEM57H9d",
        "outputId": "c3b57179-b082-4d5d-d359-e194eb700ad5"
      },
      "outputs": [
        {
          "data": {
            "text/html": [
              "\n",
              "  <div id=\"df-89a6978b-3a02-4de4-a062-e9ff77436dec\">\n",
              "    <div class=\"colab-df-container\">\n",
              "      <div>\n",
              "<style scoped>\n",
              "    .dataframe tbody tr th:only-of-type {\n",
              "        vertical-align: middle;\n",
              "    }\n",
              "\n",
              "    .dataframe tbody tr th {\n",
              "        vertical-align: top;\n",
              "    }\n",
              "\n",
              "    .dataframe thead th {\n",
              "        text-align: right;\n",
              "    }\n",
              "</style>\n",
              "<table border=\"1\" class=\"dataframe\">\n",
              "  <thead>\n",
              "    <tr style=\"text-align: right;\">\n",
              "      <th></th>\n",
              "      <th>Classifiers</th>\n",
              "      <th>Train score</th>\n",
              "      <th>Test score</th>\n",
              "      <th>No of Missclassification</th>\n",
              "      <th>% of Missclasification</th>\n",
              "      <th>Training time</th>\n",
              "      <th>Prediction time</th>\n",
              "    </tr>\n",
              "  </thead>\n",
              "  <tbody>\n",
              "    <tr>\n",
              "      <th>0</th>\n",
              "      <td>LSTM</td>\n",
              "      <td>0.405171</td>\n",
              "      <td>0.301174</td>\n",
              "      <td>2901</td>\n",
              "      <td>51.674385</td>\n",
              "      <td>202.063004</td>\n",
              "      <td>6.681172</td>\n",
              "    </tr>\n",
              "    <tr>\n",
              "      <th>1</th>\n",
              "      <td>LR</td>\n",
              "      <td>0.728658</td>\n",
              "      <td>0.355335</td>\n",
              "      <td>3267</td>\n",
              "      <td>58.193801</td>\n",
              "      <td>3.090634</td>\n",
              "      <td>0.001350</td>\n",
              "    </tr>\n",
              "    <tr>\n",
              "      <th>2</th>\n",
              "      <td>MNB</td>\n",
              "      <td>0.399660</td>\n",
              "      <td>0.266593</td>\n",
              "      <td>2990</td>\n",
              "      <td>53.259708</td>\n",
              "      <td>0.053240</td>\n",
              "      <td>0.001269</td>\n",
              "    </tr>\n",
              "  </tbody>\n",
              "</table>\n",
              "</div>\n",
              "      <button class=\"colab-df-convert\" onclick=\"convertToInteractive('df-89a6978b-3a02-4de4-a062-e9ff77436dec')\"\n",
              "              title=\"Convert this dataframe to an interactive table.\"\n",
              "              style=\"display:none;\">\n",
              "        \n",
              "  <svg xmlns=\"http://www.w3.org/2000/svg\" height=\"24px\"viewBox=\"0 0 24 24\"\n",
              "       width=\"24px\">\n",
              "    <path d=\"M0 0h24v24H0V0z\" fill=\"none\"/>\n",
              "    <path d=\"M18.56 5.44l.94 2.06.94-2.06 2.06-.94-2.06-.94-.94-2.06-.94 2.06-2.06.94zm-11 1L8.5 8.5l.94-2.06 2.06-.94-2.06-.94L8.5 2.5l-.94 2.06-2.06.94zm10 10l.94 2.06.94-2.06 2.06-.94-2.06-.94-.94-2.06-.94 2.06-2.06.94z\"/><path d=\"M17.41 7.96l-1.37-1.37c-.4-.4-.92-.59-1.43-.59-.52 0-1.04.2-1.43.59L10.3 9.45l-7.72 7.72c-.78.78-.78 2.05 0 2.83L4 21.41c.39.39.9.59 1.41.59.51 0 1.02-.2 1.41-.59l7.78-7.78 2.81-2.81c.8-.78.8-2.07 0-2.86zM5.41 20L4 18.59l7.72-7.72 1.47 1.35L5.41 20z\"/>\n",
              "  </svg>\n",
              "      </button>\n",
              "      \n",
              "  <style>\n",
              "    .colab-df-container {\n",
              "      display:flex;\n",
              "      flex-wrap:wrap;\n",
              "      gap: 12px;\n",
              "    }\n",
              "\n",
              "    .colab-df-convert {\n",
              "      background-color: #E8F0FE;\n",
              "      border: none;\n",
              "      border-radius: 50%;\n",
              "      cursor: pointer;\n",
              "      display: none;\n",
              "      fill: #1967D2;\n",
              "      height: 32px;\n",
              "      padding: 0 0 0 0;\n",
              "      width: 32px;\n",
              "    }\n",
              "\n",
              "    .colab-df-convert:hover {\n",
              "      background-color: #E2EBFA;\n",
              "      box-shadow: 0px 1px 2px rgba(60, 64, 67, 0.3), 0px 1px 3px 1px rgba(60, 64, 67, 0.15);\n",
              "      fill: #174EA6;\n",
              "    }\n",
              "\n",
              "    [theme=dark] .colab-df-convert {\n",
              "      background-color: #3B4455;\n",
              "      fill: #D2E3FC;\n",
              "    }\n",
              "\n",
              "    [theme=dark] .colab-df-convert:hover {\n",
              "      background-color: #434B5C;\n",
              "      box-shadow: 0px 1px 3px 1px rgba(0, 0, 0, 0.15);\n",
              "      filter: drop-shadow(0px 1px 2px rgba(0, 0, 0, 0.3));\n",
              "      fill: #FFFFFF;\n",
              "    }\n",
              "  </style>\n",
              "\n",
              "      <script>\n",
              "        const buttonEl =\n",
              "          document.querySelector('#df-89a6978b-3a02-4de4-a062-e9ff77436dec button.colab-df-convert');\n",
              "        buttonEl.style.display =\n",
              "          google.colab.kernel.accessAllowed ? 'block' : 'none';\n",
              "\n",
              "        async function convertToInteractive(key) {\n",
              "          const element = document.querySelector('#df-89a6978b-3a02-4de4-a062-e9ff77436dec');\n",
              "          const dataTable =\n",
              "            await google.colab.kernel.invokeFunction('convertToInteractive',\n",
              "                                                     [key], {});\n",
              "          if (!dataTable) return;\n",
              "\n",
              "          const docLinkHtml = 'Like what you see? Visit the ' +\n",
              "            '<a target=\"_blank\" href=https://colab.research.google.com/notebooks/data_table.ipynb>data table notebook</a>'\n",
              "            + ' to learn more about interactive tables.';\n",
              "          element.innerHTML = '';\n",
              "          dataTable['output_type'] = 'display_data';\n",
              "          await google.colab.output.renderOutput(dataTable, element);\n",
              "          const docLink = document.createElement('div');\n",
              "          docLink.innerHTML = docLinkHtml;\n",
              "          element.appendChild(docLink);\n",
              "        }\n",
              "      </script>\n",
              "    </div>\n",
              "  </div>\n",
              "  "
            ],
            "text/plain": [
              "  Classifiers  Train score  Test score  No of Missclassification  \\\n",
              "0        LSTM     0.405171    0.301174                      2901   \n",
              "1          LR     0.728658    0.355335                      3267   \n",
              "2         MNB     0.399660    0.266593                      2990   \n",
              "\n",
              "   % of Missclasification  Training time  Prediction time  \n",
              "0               51.674385     202.063004         6.681172  \n",
              "1               58.193801       3.090634         0.001350  \n",
              "2               53.259708       0.053240         0.001269  "
            ]
          },
          "execution_count": 55,
          "metadata": {},
          "output_type": "execute_result"
        }
      ],
      "source": [
        "s1=[LSTM,LR,MNB]\n",
        "s2=['LSTM','LR','MNB']\n",
        "col=['Train score','Test score','No of Missclassification','% of Missclasification','Training time','Prediction time']\n",
        "result=dict.fromkeys(s2,None)\n",
        "\n",
        "for i in range(len(s1)):\n",
        "    result[s2[i]] = s1[i]\n",
        "    \n",
        "temp = pd.DataFrame.from_dict(result, orient='index',columns=col).reset_index()\n",
        "result = temp.rename(columns={'index':'Classifiers'})\n",
        "result['% of Missclasification'] *= 100\n",
        "\n",
        "result"
      ]
    },
    {
      "cell_type": "code",
      "execution_count": null,
      "metadata": {
        "colab": {
          "base_uri": "https://localhost:8080/",
          "height": 376
        },
        "id": "wutt0PWj_O_L",
        "outputId": "46c56a2c-fb5e-46aa-c244-7c18e502de2e"
      },
      "outputs": [
        {
          "data": {
            "image/png": "[encoded data removed]",
            "text/plain": [
              "<Figure size 720x360 with 1 Axes>"
            ]
          },
          "metadata": {},
          "output_type": "display_data"
        }
      ],
      "source": [
        "x = np.arange(len(s1))\n",
        "plt.figure(figsize=(10,5))\n",
        "plt.bar(x+0.2, result['Test score'], color ='red',width = 0.4)\n",
        "plt.bar(x-0.2, result['Train score'], color ='green',width = 0.4)\n",
        "plt.xticks(x, result.Classifiers.values.tolist())\n",
        "plt.xticks(rotation=90)\n",
        "plt.legend(['Test score','Train score'])\n",
        "plt.title('Models vs score', fontsize = 20)\n",
        "plt.xlabel('Models', fontsize = 15)\n",
        "plt.ylabel('Score', fontsize = 15)\n",
        "plt.grid()\n",
        "plt.show()"
      ]
    },
    {
      "cell_type": "code",
      "execution_count": null,
      "metadata": {
        "id": "WAdzzNiqAmWv"
      },
      "outputs": [],
      "source": [
        "!rm -rf /content/data"
      ]
    },
    {
      "cell_type": "code",
      "execution_count": null,
      "metadata": {
        "colab": {
          "base_uri": "https://localhost:8080/"
        },
        "id": "wTDNflv8_cX2",
        "outputId": "1c4cae23-37b6-462c-cce6-91fbf3d33454"
      },
      "outputs": [
        {
          "name": "stderr",
          "output_type": "stream",
          "text": [
            "WARNING:absl:Found untraced functions such as lstm_cell_layer_call_fn, lstm_cell_layer_call_and_return_conditional_losses while saving (showing 2 of 2). These functions will not be directly callable after loading.\n"
          ]
        }
      ],
      "source": [
        "import os\n",
        "import joblib\n",
        "os.mkdir('/content/data')\n",
        "joblib.dump(encoder, \"/content/data/encoder.joblib\")\n",
        "joblib.dump(word_tokenizer,'/content/data/tokenizer.joblib')\n",
        "\n",
        "os.mkdir('data/model')\n",
        "lstm_model.save('/content/data/model/')"
      ]
    },
    {
      "cell_type": "code",
      "execution_count": null,
      "metadata": {
        "colab": {
          "base_uri": "https://localhost:8080/"
        },
        "id": "I08rgQp8BnLv",
        "outputId": "bf3a20c6-9c7b-400e-996b-c183b70a3ef6"
      },
      "outputs": [
        {
          "name": "stdout",
          "output_type": "stream",
          "text": [
            "  adding: content/data/ (stored 0%)\n",
            "  adding: content/data/encoder.joblib (deflated 28%)\n",
            "  adding: content/data/model/ (stored 0%)\n",
            "  adding: content/data/model/variables/ (stored 0%)\n",
            "  adding: content/data/model/variables/variables.data-00000-of-00001 (deflated 6%)\n",
            "  adding: content/data/model/variables/variables.index (deflated 60%)\n",
            "  adding: content/data/model/saved_model.pb (deflated 91%)\n",
            "  adding: content/data/model/assets/ (stored 0%)\n",
            "  adding: content/data/model/keras_metadata.pb (deflated 86%)\n",
            "  adding: content/data/tokenizer.joblib (deflated 52%)\n"
          ]
        }
      ],
      "source": [
        "!zip -r model.zip /content/data/"
      ]
    },
    {
      "cell_type": "markdown",
      "metadata": {
        "id": "EU0wkjxlHYW1"
      },
      "source": [
        "**Prediction Pipeline**"
      ]
    },
    {
      "cell_type": "code",
      "execution_count": null,
      "metadata": {
        "id": "_x-BxruAKbKw"
      },
      "outputs": [],
      "source": [
        "import joblib \n",
        "import tensorflow as tf\n",
        "import numpy as np\n",
        "import warnings\n",
        "warnings.filterwarnings(\"ignore\")\n",
        "\n",
        "model_path = '/content/data/model'\n",
        "tokenizer_path = '/content/data/tokenizer.joblib'\n",
        "encoder_path = '/content/data/encoder.joblib'\n",
        "\n",
        "def balanced_accuracy(y_true, y_pred):\n",
        "    y_true = y_true.numpy()\n",
        "    y_pred = y_pred.numpy()\n",
        "    y_pred = np.argmax(y_pred,axis=-1)\n",
        "\n",
        "    y_true = y_true.ravel().astype('int32')\n",
        "    y_pred = y_pred.ravel().astype('int32')\n",
        "    return balanced_accuracy_score(y_true,y_pred)\n",
        "\n",
        "model = tf.keras.models.load_model(model_path,custom_objects = {'balanced_accuracy' : balanced_accuracy})\n",
        "tokenizer = joblib.load(tokenizer_path)\n",
        "encoder = joblib.load(encoder_path)"
      ]
    },
    {
      "cell_type": "code",
      "execution_count": null,
      "metadata": {
        "id": "-KqnaCb3_pXG"
      },
      "outputs": [],
      "source": [
        "import emoji\n",
        "import contractions\n",
        "import string\n",
        "import spacy\n",
        "import re\n",
        "from textblob import TextBlob\n",
        "\n",
        "def replace_retweet(tweet, default_replace=\"\"):\n",
        "    tweet = re.sub('RT\\s+', default_replace, tweet)\n",
        "    return tweet\n",
        "\n",
        "def replace_user(tweet, default_replace=\"twitteruser\"):\n",
        "    tweet = re.sub('\\B@\\w+', default_replace, tweet)\n",
        "    return tweet\n",
        "\n",
        "def demojize(tweet):\n",
        "    tweet = emoji.demojize(tweet)\n",
        "    return tweet\n",
        "\n",
        "def replace_url(tweet, default_replace=\"\"):\n",
        "    tweet = re.sub('(http|https):\\/\\/\\S+', default_replace, tweet)\n",
        "    return tweet\n",
        "\n",
        "def replace_hashtag(tweet, default_replace=\"\"):\n",
        "    tweet = re.sub('#+', default_replace, tweet)\n",
        "    return tweet\n",
        "\n",
        "def to_lowercase(tweet):\n",
        "    tweet = tweet.lower()\n",
        "    return tweet\n",
        "\n",
        "def word_repetition(tweet):\n",
        "    tweet = re.sub(r'(.)\\1+', r'\\1\\1', tweet)\n",
        "    return tweet\n",
        "\n",
        "def punct_repetition(tweet, default_replace=\"\"):\n",
        "    tweet = re.sub(r'[\\?\\.\\!]+(?=[\\?\\.\\!])', default_replace, tweet)\n",
        "    return tweet\n",
        "\n",
        "def fix_contractions(tweet):\n",
        "    tweet = contractions.fix(tweet)\n",
        "    return tweet\n",
        "\n",
        "def spell_correct(tweet):\n",
        "    sentence = TextBlob(tweet)\n",
        "    return sentence.correct()"
      ]
    },
    {
      "cell_type": "code",
      "execution_count": null,
      "metadata": {
        "id": "jbJeOs_gYYPO"
      },
      "outputs": [],
      "source": [
        "nlp = spacy.load('en_core_web_sm')\n",
        "\n",
        "def process(sent):\n",
        "    d = nlp(sent)\n",
        "    tokens=[]\n",
        "    \n",
        "    for i in d:\n",
        "        if i.lemma_ != '-PRON-':\n",
        "            tokens.append(i.lemma_)\n",
        "    tokens = [tok for tok in tokens if tok not in string.punctuation]\n",
        "\n",
        "    tokens = ' '.join(tokens)\n",
        "    return tokens\n",
        "\n",
        "def clean_text(sent):\n",
        "    tweet = replace_retweet(sent, default_replace=\"\")\n",
        "    tweet = replace_user(tweet, default_replace=\"twitteruser\")\n",
        "    tweet = demojize(tweet)\n",
        "    tweet = replace_url(tweet, default_replace=\"\")\n",
        "    tweet = replace_hashtag(tweet, default_replace=\"\")\n",
        "    tweet = to_lowercase(tweet)\n",
        "    tweet = word_repetition(tweet)\n",
        "    tweet = punct_repetition(tweet, default_replace=\"\")\n",
        "    tweet = fix_contractions(tweet)\n",
        "    tweet = process(tweet)\n",
        "    tweet = re.sub(' +',' ',tweet)\n",
        "    tweet = str(spell_correct(tweet))\n",
        "    translator = str.maketrans(string.punctuation, ' '*len(string.punctuation))\n",
        "    tweet = tweet.translate(translator)\n",
        "\n",
        "    return str(tweet)"
      ]
    },
    {
      "cell_type": "code",
      "execution_count": null,
      "metadata": {
        "id": "JQaoBaEELSUv"
      },
      "outputs": [],
      "source": [
        "max_len = 37\n",
        "def prediction(text):\n",
        "    original_text = text\n",
        "    text = clean_text(text)\n",
        "    text = tokenizer.texts_to_sequences([text])\n",
        "    text = tf.keras.preprocessing.sequence.pad_sequences(text, maxlen = max_len, padding = 'pre',truncating='post', value=0.0)\n",
        "    pred = model.predict(text)\n",
        "    pred = np.argmax(pred,axis=1)\n",
        "    pred = encoder.inverse_transform(pred)\n",
        "\n",
        "    return original_text,pred[0]"
      ]
    },
    {
      "cell_type": "code",
      "execution_count": null,
      "metadata": {
        "colab": {
          "base_uri": "https://localhost:8080/"
        },
        "id": "qjy63tGCKNCq",
        "outputId": "af954ebb-c577-41f6-931a-fc5cab38d16f"
      },
      "outputs": [
        {
          "name": "stdout",
          "output_type": "stream",
          "text": [
            "1/1 [==============================] - 0s 24ms/step\n"
          ]
        },
        {
          "data": {
            "text/plain": [
              "('i want refund', 'Fear')"
            ]
          },
          "execution_count": 67,
          "metadata": {},
          "output_type": "execute_result"
        }
      ],
      "source": [
        "text = 'i want refund'\n",
        "text,pred = prediction(text)\n",
        "text,pred"
      ]
    },
    {
      "cell_type": "code",
      "execution_count": null,
      "metadata": {
        "id": "LOmnwBFVO304"
      },
      "outputs": [],
      "source": []
    }
  ],
  "metadata": {
    "colab": {
      "provenance": []
    },
    "gpuClass": "standard",
    "kernelspec": {
      "display_name": "Python 3",
      "name": "python3"
    },
    "language_info": {
      "name": "python"
    }
  },
  "nbformat": 4,
  "nbformat_minor": 0
}